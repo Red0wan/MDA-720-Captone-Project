{
 "cells": [
  {
   "cell_type": "code",
   "execution_count": 2,
   "id": "f307f4e2",
   "metadata": {},
   "outputs": [],
   "source": [
    "# Data-preprocessing libraries needed\n",
    "\n",
    "import time\n",
    "import numpy as np\n",
    "import pandas as pd\n",
    "from matplotlib import pyplot as plt\n",
    "import seaborn as sns\n",
    "import plotly.express as px\n",
    "import re\n",
    "from pandasql import sqldf\n"
   ]
  },
  {
   "cell_type": "code",
   "execution_count": 3,
   "id": "b73036b5",
   "metadata": {},
   "outputs": [
    {
     "data": {
      "text/html": [
       "<div>\n",
       "<style scoped>\n",
       "    .dataframe tbody tr th:only-of-type {\n",
       "        vertical-align: middle;\n",
       "    }\n",
       "\n",
       "    .dataframe tbody tr th {\n",
       "        vertical-align: top;\n",
       "    }\n",
       "\n",
       "    .dataframe thead th {\n",
       "        text-align: right;\n",
       "    }\n",
       "</style>\n",
       "<table border=\"1\" class=\"dataframe\">\n",
       "  <thead>\n",
       "    <tr style=\"text-align: right;\">\n",
       "      <th></th>\n",
       "      <th>Unnamed: 0</th>\n",
       "      <th>link</th>\n",
       "      <th>name</th>\n",
       "      <th>user rating</th>\n",
       "      <th>Price</th>\n",
       "      <th>Sales Package</th>\n",
       "      <th>Model Number</th>\n",
       "      <th>Part Number</th>\n",
       "      <th>Model Name</th>\n",
       "      <th>Series</th>\n",
       "      <th>...</th>\n",
       "      <th>Security Chip</th>\n",
       "      <th>Inbuilt 4G LTE</th>\n",
       "      <th>Cloud Storage</th>\n",
       "      <th>S-video</th>\n",
       "      <th>Dock Port</th>\n",
       "      <th>Firewire Port</th>\n",
       "      <th>RJ11</th>\n",
       "      <th>Read/Write Speed</th>\n",
       "      <th>EMMC Storage Capacity</th>\n",
       "      <th>Optane Memory</th>\n",
       "    </tr>\n",
       "  </thead>\n",
       "  <tbody>\n",
       "    <tr>\n",
       "      <th>0</th>\n",
       "      <td>0</td>\n",
       "      <td>https://www.flipkart.com/asus-rog-strix-scar-1...</td>\n",
       "      <td>asus rog strix scar 17 core i9 12th gen - (32 ...</td>\n",
       "      <td>5.0</td>\n",
       "      <td>?2,34,990</td>\n",
       "      <td>laptop, power adaptor, user guide, warranty do...</td>\n",
       "      <td>g733zw-ll139ws</td>\n",
       "      <td>90nr08g2-m007s0</td>\n",
       "      <td>g733zw-ll139ws</td>\n",
       "      <td>rog strix scar 17</td>\n",
       "      <td>...</td>\n",
       "      <td>nan</td>\n",
       "      <td>nan</td>\n",
       "      <td>nan</td>\n",
       "      <td>nan</td>\n",
       "      <td>nan</td>\n",
       "      <td>nan</td>\n",
       "      <td>nan</td>\n",
       "      <td>nan</td>\n",
       "      <td>nan</td>\n",
       "      <td>nan</td>\n",
       "    </tr>\n",
       "    <tr>\n",
       "      <th>1</th>\n",
       "      <td>1</td>\n",
       "      <td>https://www.flipkart.com/asus-rog-strix-scar-1...</td>\n",
       "      <td>asus rog strix scar 15 core i9 12th gen - (32 ...</td>\n",
       "      <td>nan</td>\n",
       "      <td>?2,29,990</td>\n",
       "      <td>laptop, power adaptor, user guide, warranty do...</td>\n",
       "      <td>g533zw-ln136ws</td>\n",
       "      <td>90nr0872-m007l0</td>\n",
       "      <td>g533zw-ln136ws</td>\n",
       "      <td>rog strix scar 15</td>\n",
       "      <td>...</td>\n",
       "      <td>nan</td>\n",
       "      <td>nan</td>\n",
       "      <td>nan</td>\n",
       "      <td>nan</td>\n",
       "      <td>nan</td>\n",
       "      <td>nan</td>\n",
       "      <td>nan</td>\n",
       "      <td>nan</td>\n",
       "      <td>nan</td>\n",
       "      <td>nan</td>\n",
       "    </tr>\n",
       "    <tr>\n",
       "      <th>2</th>\n",
       "      <td>2</td>\n",
       "      <td>https://www.flipkart.com/hp-victus-ryzen-7-oct...</td>\n",
       "      <td>hp victus ryzen 7 octa core 5800h - (16 gb/512...</td>\n",
       "      <td>nan</td>\n",
       "      <td>?1,04,091</td>\n",
       "      <td>laptop, battery, adapter, cables and user manuals</td>\n",
       "      <td>16-e0351ax</td>\n",
       "      <td>552x1pa#acj</td>\n",
       "      <td>16-e0351ax</td>\n",
       "      <td>victus</td>\n",
       "      <td>...</td>\n",
       "      <td>nan</td>\n",
       "      <td>nan</td>\n",
       "      <td>nan</td>\n",
       "      <td>nan</td>\n",
       "      <td>nan</td>\n",
       "      <td>nan</td>\n",
       "      <td>nan</td>\n",
       "      <td>nan</td>\n",
       "      <td>nan</td>\n",
       "      <td>nan</td>\n",
       "    </tr>\n",
       "    <tr>\n",
       "      <th>3</th>\n",
       "      <td>3</td>\n",
       "      <td>https://www.flipkart.com/lenovo-ideapad-gaming...</td>\n",
       "      <td>lenovo ideapad gaming 3i ryzen 7 octa core r7-...</td>\n",
       "      <td>nan</td>\n",
       "      <td>?87,717</td>\n",
       "      <td>laptop, power adaptor, user guide, warranty do...</td>\n",
       "      <td>15ach6</td>\n",
       "      <td>82k201rsin</td>\n",
       "      <td>ideapad gaming 3</td>\n",
       "      <td>ideapad gaming 3i</td>\n",
       "      <td>...</td>\n",
       "      <td>nan</td>\n",
       "      <td>nan</td>\n",
       "      <td>nan</td>\n",
       "      <td>nan</td>\n",
       "      <td>nan</td>\n",
       "      <td>nan</td>\n",
       "      <td>nan</td>\n",
       "      <td>nan</td>\n",
       "      <td>nan</td>\n",
       "      <td>nan</td>\n",
       "    </tr>\n",
       "    <tr>\n",
       "      <th>4</th>\n",
       "      <td>4</td>\n",
       "      <td>https://www.flipkart.com/lenovo-yoga-slim-7-co...</td>\n",
       "      <td>lenovo yoga slim 7 core i5 11th gen - (16 gb/5...</td>\n",
       "      <td>nan</td>\n",
       "      <td>?75,990</td>\n",
       "      <td>laptop, adaptor</td>\n",
       "      <td>82a300mbin</td>\n",
       "      <td>1ls2b001653</td>\n",
       "      <td>yoga slim 7 14itl05</td>\n",
       "      <td>yoga slim 7</td>\n",
       "      <td>...</td>\n",
       "      <td>nan</td>\n",
       "      <td>nan</td>\n",
       "      <td>nan</td>\n",
       "      <td>nan</td>\n",
       "      <td>nan</td>\n",
       "      <td>nan</td>\n",
       "      <td>nan</td>\n",
       "      <td>nan</td>\n",
       "      <td>nan</td>\n",
       "      <td>nan</td>\n",
       "    </tr>\n",
       "    <tr>\n",
       "      <th>...</th>\n",
       "      <td>...</td>\n",
       "      <td>...</td>\n",
       "      <td>...</td>\n",
       "      <td>...</td>\n",
       "      <td>...</td>\n",
       "      <td>...</td>\n",
       "      <td>...</td>\n",
       "      <td>...</td>\n",
       "      <td>...</td>\n",
       "      <td>...</td>\n",
       "      <td>...</td>\n",
       "      <td>...</td>\n",
       "      <td>...</td>\n",
       "      <td>...</td>\n",
       "      <td>...</td>\n",
       "      <td>...</td>\n",
       "      <td>...</td>\n",
       "      <td>...</td>\n",
       "      <td>...</td>\n",
       "      <td>...</td>\n",
       "      <td>...</td>\n",
       "    </tr>\n",
       "    <tr>\n",
       "      <th>979</th>\n",
       "      <td>979</td>\n",
       "      <td>https://www.flipkart.com/nokia-purebook-x14-co...</td>\n",
       "      <td>nokia purebook x14 core i5 10th gen - (8 gb/51...</td>\n",
       "      <td>4.4</td>\n",
       "      <td>?53,990</td>\n",
       "      <td>laptop, power adaptor, user guide with warrant...</td>\n",
       "      <td>nki510ul85s</td>\n",
       "      <td>nki510ul85s</td>\n",
       "      <td>nan</td>\n",
       "      <td>purebook x14</td>\n",
       "      <td>...</td>\n",
       "      <td>nan</td>\n",
       "      <td>nan</td>\n",
       "      <td>nan</td>\n",
       "      <td>nan</td>\n",
       "      <td>nan</td>\n",
       "      <td>nan</td>\n",
       "      <td>nan</td>\n",
       "      <td>nan</td>\n",
       "      <td>nan</td>\n",
       "      <td>nan</td>\n",
       "    </tr>\n",
       "    <tr>\n",
       "      <th>980</th>\n",
       "      <td>980</td>\n",
       "      <td>https://www.flipkart.com/hp-spectre-folio-core...</td>\n",
       "      <td>hp spectre folio core i7 10th gen - (16 gb/512...</td>\n",
       "      <td>nan</td>\n",
       "      <td>?2,39,759</td>\n",
       "      <td>laptop, power adaptor, user guide, warranty do...</td>\n",
       "      <td>13-ak1004tu</td>\n",
       "      <td>3p296pa</td>\n",
       "      <td>nan</td>\n",
       "      <td>spectre folio</td>\n",
       "      <td>...</td>\n",
       "      <td>nan</td>\n",
       "      <td>nan</td>\n",
       "      <td>nan</td>\n",
       "      <td>nan</td>\n",
       "      <td>nan</td>\n",
       "      <td>nan</td>\n",
       "      <td>nan</td>\n",
       "      <td>nan</td>\n",
       "      <td>nan</td>\n",
       "      <td>nan</td>\n",
       "    </tr>\n",
       "    <tr>\n",
       "      <th>981</th>\n",
       "      <td>981</td>\n",
       "      <td>https://www.flipkart.com/hp-envy-x360-ryzen-5-...</td>\n",
       "      <td>hp envy x360 ryzen 5 hexa core 4500u - (8 gb/5...</td>\n",
       "      <td>nan</td>\n",
       "      <td>?85,555</td>\n",
       "      <td>laptop, power adaptor, user guide, warranty do...</td>\n",
       "      <td>13-ay0078au</td>\n",
       "      <td>17j58pa</td>\n",
       "      <td>nan</td>\n",
       "      <td>envy x360</td>\n",
       "      <td>...</td>\n",
       "      <td>nan</td>\n",
       "      <td>nan</td>\n",
       "      <td>nan</td>\n",
       "      <td>nan</td>\n",
       "      <td>nan</td>\n",
       "      <td>nan</td>\n",
       "      <td>nan</td>\n",
       "      <td>nan</td>\n",
       "      <td>nan</td>\n",
       "      <td>nan</td>\n",
       "    </tr>\n",
       "    <tr>\n",
       "      <th>982</th>\n",
       "      <td>982</td>\n",
       "      <td>https://www.flipkart.com/hp-14a-celeron-dual-c...</td>\n",
       "      <td>hp 14a celeron dual core - (4 gb/64 gb emmc st...</td>\n",
       "      <td>3.6</td>\n",
       "      <td>?26,990</td>\n",
       "      <td>laptop, power adaptor, user guide, warranty do...</td>\n",
       "      <td>14a- na0002tu</td>\n",
       "      <td>2z326pa</td>\n",
       "      <td>nan</td>\n",
       "      <td>14a</td>\n",
       "      <td>...</td>\n",
       "      <td>nan</td>\n",
       "      <td>nan</td>\n",
       "      <td>nan</td>\n",
       "      <td>nan</td>\n",
       "      <td>nan</td>\n",
       "      <td>nan</td>\n",
       "      <td>nan</td>\n",
       "      <td>nan</td>\n",
       "      <td>64 gb</td>\n",
       "      <td>nan</td>\n",
       "    </tr>\n",
       "    <tr>\n",
       "      <th>983</th>\n",
       "      <td>983</td>\n",
       "      <td>https://www.flipkart.com/lenovo-core-i3-10th-g...</td>\n",
       "      <td>lenovo core i3 10th gen - (4 gb/1 tb hdd/windo...</td>\n",
       "      <td>3.1</td>\n",
       "      <td>?44,590</td>\n",
       "      <td>laptop, power adaptor, user guide, warranty do...</td>\n",
       "      <td>v14</td>\n",
       "      <td>82c4a00lih</td>\n",
       "      <td>nan</td>\n",
       "      <td>nan</td>\n",
       "      <td>...</td>\n",
       "      <td>tpm</td>\n",
       "      <td>nan</td>\n",
       "      <td>nan</td>\n",
       "      <td>nan</td>\n",
       "      <td>nan</td>\n",
       "      <td>nan</td>\n",
       "      <td>nan</td>\n",
       "      <td>nan</td>\n",
       "      <td>nan</td>\n",
       "      <td>nan</td>\n",
       "    </tr>\n",
       "  </tbody>\n",
       "</table>\n",
       "<p>984 rows × 98 columns</p>\n",
       "</div>"
      ],
      "text/plain": [
       "    Unnamed: 0                                               link  \\\n",
       "0            0  https://www.flipkart.com/asus-rog-strix-scar-1...   \n",
       "1            1  https://www.flipkart.com/asus-rog-strix-scar-1...   \n",
       "2            2  https://www.flipkart.com/hp-victus-ryzen-7-oct...   \n",
       "3            3  https://www.flipkart.com/lenovo-ideapad-gaming...   \n",
       "4            4  https://www.flipkart.com/lenovo-yoga-slim-7-co...   \n",
       "..         ...                                                ...   \n",
       "979        979  https://www.flipkart.com/nokia-purebook-x14-co...   \n",
       "980        980  https://www.flipkart.com/hp-spectre-folio-core...   \n",
       "981        981  https://www.flipkart.com/hp-envy-x360-ryzen-5-...   \n",
       "982        982  https://www.flipkart.com/hp-14a-celeron-dual-c...   \n",
       "983        983  https://www.flipkart.com/lenovo-core-i3-10th-g...   \n",
       "\n",
       "                                                  name user rating      Price  \\\n",
       "0    asus rog strix scar 17 core i9 12th gen - (32 ...         5.0  ?2,34,990   \n",
       "1    asus rog strix scar 15 core i9 12th gen - (32 ...         nan  ?2,29,990   \n",
       "2    hp victus ryzen 7 octa core 5800h - (16 gb/512...         nan  ?1,04,091   \n",
       "3    lenovo ideapad gaming 3i ryzen 7 octa core r7-...         nan    ?87,717   \n",
       "4    lenovo yoga slim 7 core i5 11th gen - (16 gb/5...         nan    ?75,990   \n",
       "..                                                 ...         ...        ...   \n",
       "979  nokia purebook x14 core i5 10th gen - (8 gb/51...         4.4    ?53,990   \n",
       "980  hp spectre folio core i7 10th gen - (16 gb/512...         nan  ?2,39,759   \n",
       "981  hp envy x360 ryzen 5 hexa core 4500u - (8 gb/5...         nan    ?85,555   \n",
       "982  hp 14a celeron dual core - (4 gb/64 gb emmc st...         3.6    ?26,990   \n",
       "983  lenovo core i3 10th gen - (4 gb/1 tb hdd/windo...         3.1    ?44,590   \n",
       "\n",
       "                                         Sales Package    Model Number  \\\n",
       "0    laptop, power adaptor, user guide, warranty do...  g733zw-ll139ws   \n",
       "1    laptop, power adaptor, user guide, warranty do...  g533zw-ln136ws   \n",
       "2    laptop, battery, adapter, cables and user manuals      16-e0351ax   \n",
       "3    laptop, power adaptor, user guide, warranty do...          15ach6   \n",
       "4                                      laptop, adaptor      82a300mbin   \n",
       "..                                                 ...             ...   \n",
       "979  laptop, power adaptor, user guide with warrant...     nki510ul85s   \n",
       "980  laptop, power adaptor, user guide, warranty do...     13-ak1004tu   \n",
       "981  laptop, power adaptor, user guide, warranty do...     13-ay0078au   \n",
       "982  laptop, power adaptor, user guide, warranty do...   14a- na0002tu   \n",
       "983  laptop, power adaptor, user guide, warranty do...             v14   \n",
       "\n",
       "         Part Number           Model Name             Series  ...  \\\n",
       "0    90nr08g2-m007s0       g733zw-ll139ws  rog strix scar 17  ...   \n",
       "1    90nr0872-m007l0       g533zw-ln136ws  rog strix scar 15  ...   \n",
       "2        552x1pa#acj           16-e0351ax             victus  ...   \n",
       "3         82k201rsin     ideapad gaming 3  ideapad gaming 3i  ...   \n",
       "4        1ls2b001653  yoga slim 7 14itl05        yoga slim 7  ...   \n",
       "..               ...                  ...                ...  ...   \n",
       "979      nki510ul85s                  nan       purebook x14  ...   \n",
       "980          3p296pa                  nan      spectre folio  ...   \n",
       "981          17j58pa                  nan          envy x360  ...   \n",
       "982          2z326pa                  nan                14a  ...   \n",
       "983       82c4a00lih                  nan                nan  ...   \n",
       "\n",
       "    Security Chip Inbuilt 4G LTE Cloud Storage S-video Dock Port  \\\n",
       "0             nan            nan           nan     nan       nan   \n",
       "1             nan            nan           nan     nan       nan   \n",
       "2             nan            nan           nan     nan       nan   \n",
       "3             nan            nan           nan     nan       nan   \n",
       "4             nan            nan           nan     nan       nan   \n",
       "..            ...            ...           ...     ...       ...   \n",
       "979           nan            nan           nan     nan       nan   \n",
       "980           nan            nan           nan     nan       nan   \n",
       "981           nan            nan           nan     nan       nan   \n",
       "982           nan            nan           nan     nan       nan   \n",
       "983           tpm            nan           nan     nan       nan   \n",
       "\n",
       "    Firewire Port RJ11 Read/Write Speed EMMC Storage Capacity Optane Memory  \n",
       "0             nan  nan              nan                   nan           nan  \n",
       "1             nan  nan              nan                   nan           nan  \n",
       "2             nan  nan              nan                   nan           nan  \n",
       "3             nan  nan              nan                   nan           nan  \n",
       "4             nan  nan              nan                   nan           nan  \n",
       "..            ...  ...              ...                   ...           ...  \n",
       "979           nan  nan              nan                   nan           nan  \n",
       "980           nan  nan              nan                   nan           nan  \n",
       "981           nan  nan              nan                   nan           nan  \n",
       "982           nan  nan              nan                 64 gb           nan  \n",
       "983           nan  nan              nan                   nan           nan  \n",
       "\n",
       "[984 rows x 98 columns]"
      ]
     },
     "execution_count": 3,
     "metadata": {},
     "output_type": "execute_result"
    }
   ],
   "source": [
    "# We load the data in lowercase for better data processing\n",
    "\n",
    "df1 = pd.read_csv(\"/Users/mdredowanaminmollick/Desktop/720 capstone/complete laptop data0.csv\", encoding= 'unicode_escape').apply(lambda x: x.astype(str).str.lower())\n",
    "df1\n",
    "\n",
    "# Latest data --> Last week's data from flipkart's laptop catalogue"
   ]
  },
  {
   "cell_type": "code",
   "execution_count": 4,
   "id": "c89c7d84",
   "metadata": {},
   "outputs": [
    {
     "data": {
      "text/html": [
       "<div>\n",
       "<style scoped>\n",
       "    .dataframe tbody tr th:only-of-type {\n",
       "        vertical-align: middle;\n",
       "    }\n",
       "\n",
       "    .dataframe tbody tr th {\n",
       "        vertical-align: top;\n",
       "    }\n",
       "\n",
       "    .dataframe thead th {\n",
       "        text-align: right;\n",
       "    }\n",
       "</style>\n",
       "<table border=\"1\" class=\"dataframe\">\n",
       "  <thead>\n",
       "    <tr style=\"text-align: right;\">\n",
       "      <th></th>\n",
       "      <th>count</th>\n",
       "      <th>unique</th>\n",
       "      <th>top</th>\n",
       "      <th>freq</th>\n",
       "    </tr>\n",
       "  </thead>\n",
       "  <tbody>\n",
       "    <tr>\n",
       "      <th>Unnamed: 0</th>\n",
       "      <td>984</td>\n",
       "      <td>984</td>\n",
       "      <td>0</td>\n",
       "      <td>1</td>\n",
       "    </tr>\n",
       "    <tr>\n",
       "      <th>link</th>\n",
       "      <td>984</td>\n",
       "      <td>984</td>\n",
       "      <td>https://www.flipkart.com/asus-rog-strix-scar-1...</td>\n",
       "      <td>1</td>\n",
       "    </tr>\n",
       "    <tr>\n",
       "      <th>name</th>\n",
       "      <td>984</td>\n",
       "      <td>940</td>\n",
       "      <td>asus rog strix scar 17 core i9 12th gen - (32 ...</td>\n",
       "      <td>2</td>\n",
       "    </tr>\n",
       "    <tr>\n",
       "      <th>user rating</th>\n",
       "      <td>984</td>\n",
       "      <td>29</td>\n",
       "      <td>nan</td>\n",
       "      <td>294</td>\n",
       "    </tr>\n",
       "    <tr>\n",
       "      <th>Price</th>\n",
       "      <td>984</td>\n",
       "      <td>433</td>\n",
       "      <td>?40,990</td>\n",
       "      <td>16</td>\n",
       "    </tr>\n",
       "    <tr>\n",
       "      <th>...</th>\n",
       "      <td>...</td>\n",
       "      <td>...</td>\n",
       "      <td>...</td>\n",
       "      <td>...</td>\n",
       "    </tr>\n",
       "    <tr>\n",
       "      <th>Firewire Port</th>\n",
       "      <td>984</td>\n",
       "      <td>2</td>\n",
       "      <td>nan</td>\n",
       "      <td>950</td>\n",
       "    </tr>\n",
       "    <tr>\n",
       "      <th>RJ11</th>\n",
       "      <td>984</td>\n",
       "      <td>2</td>\n",
       "      <td>nan</td>\n",
       "      <td>943</td>\n",
       "    </tr>\n",
       "    <tr>\n",
       "      <th>Read/Write Speed</th>\n",
       "      <td>984</td>\n",
       "      <td>3</td>\n",
       "      <td>nan</td>\n",
       "      <td>980</td>\n",
       "    </tr>\n",
       "    <tr>\n",
       "      <th>EMMC Storage Capacity</th>\n",
       "      <td>984</td>\n",
       "      <td>5</td>\n",
       "      <td>nan</td>\n",
       "      <td>960</td>\n",
       "    </tr>\n",
       "    <tr>\n",
       "      <th>Optane Memory</th>\n",
       "      <td>984</td>\n",
       "      <td>2</td>\n",
       "      <td>nan</td>\n",
       "      <td>978</td>\n",
       "    </tr>\n",
       "  </tbody>\n",
       "</table>\n",
       "<p>98 rows × 4 columns</p>\n",
       "</div>"
      ],
      "text/plain": [
       "                      count unique  \\\n",
       "Unnamed: 0              984    984   \n",
       "link                    984    984   \n",
       "name                    984    940   \n",
       "user rating             984     29   \n",
       "Price                   984    433   \n",
       "...                     ...    ...   \n",
       "Firewire Port           984      2   \n",
       "RJ11                    984      2   \n",
       "Read/Write Speed        984      3   \n",
       "EMMC Storage Capacity   984      5   \n",
       "Optane Memory           984      2   \n",
       "\n",
       "                                                                     top freq  \n",
       "Unnamed: 0                                                             0    1  \n",
       "link                   https://www.flipkart.com/asus-rog-strix-scar-1...    1  \n",
       "name                   asus rog strix scar 17 core i9 12th gen - (32 ...    2  \n",
       "user rating                                                          nan  294  \n",
       "Price                                                            ?40,990   16  \n",
       "...                                                                  ...  ...  \n",
       "Firewire Port                                                        nan  950  \n",
       "RJ11                                                                 nan  943  \n",
       "Read/Write Speed                                                     nan  980  \n",
       "EMMC Storage Capacity                                                nan  960  \n",
       "Optane Memory                                                        nan  978  \n",
       "\n",
       "[98 rows x 4 columns]"
      ]
     },
     "execution_count": 4,
     "metadata": {},
     "output_type": "execute_result"
    }
   ],
   "source": [
    "df2 = df1.copy()\n",
    "df2.describe().T"
   ]
  },
  {
   "cell_type": "code",
   "execution_count": 5,
   "id": "d296370e",
   "metadata": {},
   "outputs": [
    {
     "data": {
      "text/plain": [
       "(Index(['Unnamed: 0', 'link', 'name', 'user rating', 'Price', 'Sales Package',\n",
       "        'Model Number', 'Part Number', 'Model Name', 'Series', 'Color', 'Type',\n",
       "        'Suitable For', 'Power Supply', 'Battery Cell', 'MS Office Provided',\n",
       "        'Dedicated Graphic Memory Type', 'Dedicated Graphic Memory Capacity',\n",
       "        'Processor Brand', 'Processor Name', 'Processor Generation', 'SSD',\n",
       "        'SSD Capacity', 'RAM', 'RAM Type', 'Processor Variant', 'Clock Speed',\n",
       "        'Expandable Memory', 'Cache', 'Graphic Processor', 'Number of Cores',\n",
       "        'OS Architecture', 'Operating System', 'Supported Operating System',\n",
       "        'Mic In', 'USB Port', 'HDMI Port', 'Touchscreen', 'Screen Size',\n",
       "        'Screen Resolution', 'Screen Type', 'Speakers', 'Internal Mic',\n",
       "        'Sound Properties', 'Wireless LAN', 'Bluetooth', 'Dimensions', 'Weight',\n",
       "        'Disk Drive', 'Finger Print Sensor', 'Keyboard', 'Backlit Keyboard',\n",
       "        'Additional Features', 'Warranty Summary', 'Warranty Service Type',\n",
       "        'Covered in Warranty', 'Not Covered in Warranty', 'Domestic Warranty',\n",
       "        'Ethernet', 'Web Camera', 'Pointer Device', 'Included Software',\n",
       "        'Battery Backup', 'Chipset', 'Memory Slots', 'RAM Frequency', 'RJ45',\n",
       "        'Sound Chip', 'Brightness', 'Laptop Bag', 'Other Accessories',\n",
       "        'International Warranty', 'Wireless WAN', 'Recovery Options', 'RPM',\n",
       "        'Hardware Interface', 'Face Recognition', 'System Architecture',\n",
       "        'Refresh Rate', 'Antivirus', 'Multi Card Slot', 'Lock Port',\n",
       "        'NFC Support', 'HDD Capacity', 'Stylus Included', 'TGP', 'VGA Port',\n",
       "        'Color Gamut', 'Security Chip', 'Inbuilt 4G LTE', 'Cloud Storage',\n",
       "        'S-video', 'Dock Port', 'Firewire Port', 'RJ11', 'Read/Write Speed',\n",
       "        'EMMC Storage Capacity', 'Optane Memory'],\n",
       "       dtype='object'),\n",
       " 98)"
      ]
     },
     "execution_count": 5,
     "metadata": {},
     "output_type": "execute_result"
    }
   ],
   "source": [
    "df1.columns, len(df1.columns)"
   ]
  },
  {
   "cell_type": "markdown",
   "id": "52533411",
   "metadata": {},
   "source": [
    "# Data cleaning and preprocessing"
   ]
  },
  {
   "cell_type": "code",
   "execution_count": 6,
   "id": "95daf862",
   "metadata": {},
   "outputs": [],
   "source": [
    "# Deleting some unwanted features\n",
    "\n",
    "del df1[\"Dock Port\"]\n",
    "del df1[\"Firewire Port\"]\n",
    "del df1[\"Optane Memory\"]\n",
    "del df1[\"RJ11\"]\n",
    "del df1[\"Lock Port\"]\n",
    "del df1[\"Color Gamut\"]\n",
    "del df1[\"S-video\"]\n",
    "del df1[\"Laptop Bag\"]\n",
    "del df1[\"RPM\"]\n",
    "del df1[\"Antivirus\"]\n",
    "del df1[\"Stylus Included\"]\n",
    "del df1[\"TGP\"]\n",
    "del df1[\"VGA Port\"]\n",
    "del df1[\"Security Chip\"]\n",
    "del df1[\"RJ45\"]\n",
    "del df1[\"Keyboard\"]\n",
    "del df1[\"Cache\"]\n",
    "del df1[\"Hardware Interface\"]\n",
    "del df1[\"Bluetooth\"]\n",
    "del df1[\"Other Accessories\"]\n",
    "del df1[\"Inbuilt 4G LTE\"]\n",
    "del df1[\"Domestic Warranty\"]\n",
    "del df1[\"International Warranty\"]\n",
    "del df1[\"Included Software\"]\n",
    "del df1[\"Internal Mic\"]\n",
    "del df1[\"MS Office Provided\"]\n",
    "del df1[\"Wireless LAN\"]\n",
    "del df1[\"Wireless WAN\"]\n",
    "del df1[\"Mic In\"]\n",
    "del df1[\"Cloud Storage\"]\n",
    "del df1[\"Dimensions\"]\n",
    "del df1[\"HDMI Port\"]\n",
    "del df1[\"Sound Properties\"]\n",
    "del df1[\"Sound Chip\"]\n",
    "del df1[\"Speakers\"]\n",
    "del df1[\"Additional Features\"]\n",
    "del df1[\"USB Port\"]\n",
    "del df1[\"Multi Card Slot\"]\n",
    "del df1[\"Unnamed: 0\"]\n",
    "del df1[\"Not Covered in Warranty\"]\n",
    "del df1[\"Covered in Warranty\"]\n",
    "del df1[\"Warranty Service Type\"]\n",
    "del df1[\"Warranty Summary\"]\n",
    "del df1[\"Ethernet\"]\n",
    "del df1[\"Pointer Device\"]\n",
    "del df1[\"RAM Frequency\"]\n",
    "del df1[\"Recovery Options\"]\n",
    "del df1[\"NFC Support\"]\n",
    "del df1[\"link\"]\n",
    "del df1[\"user rating\"]\n",
    "del df1[\"Model Number\"]\n",
    "del df1[\"Memory Slots\"]\n",
    "del df1[\"Part Number\"]\n",
    "del df1[\"Suitable For\"]"
   ]
  },
  {
   "cell_type": "code",
   "execution_count": 17,
   "id": "e23f841c",
   "metadata": {},
   "outputs": [
    {
     "name": "stdout",
     "output_type": "stream",
     "text": [
      "Requirement already satisfied: nltk in /opt/anaconda3/lib/python3.9/site-packages (3.7)\r\n",
      "Requirement already satisfied: regex>=2021.8.3 in /opt/anaconda3/lib/python3.9/site-packages (from nltk) (2022.3.15)\r\n",
      "Requirement already satisfied: joblib in /opt/anaconda3/lib/python3.9/site-packages (from nltk) (1.1.0)\r\n",
      "Requirement already satisfied: click in /opt/anaconda3/lib/python3.9/site-packages (from nltk) (8.0.4)\r\n",
      "Requirement already satisfied: tqdm in /opt/anaconda3/lib/python3.9/site-packages (from nltk) (4.64.0)\r\n"
     ]
    }
   ],
   "source": [
    "!pip install nltk"
   ]
  },
  {
   "cell_type": "code",
   "execution_count": 20,
   "id": "6d9980d7",
   "metadata": {},
   "outputs": [
    {
     "name": "stderr",
     "output_type": "stream",
     "text": [
      "[nltk_data] Downloading package punkt to\n",
      "[nltk_data]     /Users/mdredowanaminmollick/nltk_data...\n",
      "[nltk_data]   Unzipping tokenizers/punkt.zip.\n"
     ]
    },
    {
     "data": {
      "text/plain": [
       "True"
      ]
     },
     "execution_count": 20,
     "metadata": {},
     "output_type": "execute_result"
    }
   ],
   "source": [
    "import nltk\n",
    "nltk.download('punkt')"
   ]
  },
  {
   "cell_type": "code",
   "execution_count": 21,
   "id": "671e69e9",
   "metadata": {},
   "outputs": [],
   "source": [
    "from nltk.tokenize import word_tokenize\n",
    "\n",
    "brand_name = []\n",
    "for i in range(df1.shape[0]):\n",
    "    arr = word_tokenize(df1[\"name\"][i])\n",
    "    brand_name.append(arr[0])     "
   ]
  },
  {
   "cell_type": "code",
   "execution_count": 22,
   "id": "78b3a3f1",
   "metadata": {},
   "outputs": [],
   "source": [
    "brand = np.array(brand_name)"
   ]
  },
  {
   "cell_type": "code",
   "execution_count": 23,
   "id": "20076eab",
   "metadata": {},
   "outputs": [
    {
     "data": {
      "text/plain": [
       "array(['acer', 'apple', 'asus', 'avita', 'dell', 'hp', 'infinix',\n",
       "       'lenovo', 'lg', 'mi', 'msi', 'nokia', 'realme', 'redmibook',\n",
       "       'samsung', 'vaio'], dtype='<U9')"
      ]
     },
     "execution_count": 23,
     "metadata": {},
     "output_type": "execute_result"
    }
   ],
   "source": [
    "np.unique(brand)"
   ]
  },
  {
   "cell_type": "code",
   "execution_count": 14,
   "id": "2783af6a",
   "metadata": {},
   "outputs": [
    {
     "data": {
      "text/plain": [
       "(674, 44)"
      ]
     },
     "execution_count": 14,
     "metadata": {},
     "output_type": "execute_result"
    }
   ],
   "source": [
    "df1[df1[\"Dedicated Graphic Memory Capacity\"] == \"nan\"].shape"
   ]
  },
  {
   "cell_type": "code",
   "execution_count": 24,
   "id": "283025d9",
   "metadata": {},
   "outputs": [],
   "source": [
    "# Function for encoding categorical string data into integers\n",
    "\n",
    "def encode_to_int(arr):\n",
    "    d = {}\n",
    "    for p in enumerate(arr):\n",
    "        if p[1] not in d:\n",
    "            d[p[1]] = p[0]+1\n",
    "        \n",
    "    return d"
   ]
  },
  {
   "cell_type": "code",
   "execution_count": 26,
   "id": "5d081f17",
   "metadata": {},
   "outputs": [],
   "source": [
    "req = df1[\"Screen Resolution\"]\n",
    "max_screen_res = list(req)\n",
    "\n",
    "for i in range(len(max_screen_res)):\n",
    "    res =\" \".join(re.split(r'\\D+',max_screen_res[i])).split()\n",
    "    if len(res)==1:\n",
    "        max_screen_res[i]=int(res[0])\n",
    "    else:\n",
    "        max_screen_res[i]=min(int(res[0]),int(res[1]))\n",
    "        \n",
    "for i in range(len(max_screen_res)):\n",
    "    if max_screen_res[i]>=2160:\n",
    "        max_screen_res[i]=2160\n",
    "    elif max_screen_res[i]>=1440:\n",
    "        max_screen_res[i]=1440\n",
    "    elif max_screen_res[i]>=1080:\n",
    "        max_screen_res[i]=1080\n",
    "    elif max_screen_res[i]>=720:\n",
    "        max_screen_res[i]=720\n",
    "    else:\n",
    "        max_screen_res[i]=480"
   ]
  },
  {
   "cell_type": "code",
   "execution_count": 27,
   "id": "d1446150",
   "metadata": {},
   "outputs": [],
   "source": [
    "df1[\"max_res\"] = pd.DataFrame(max_screen_res)"
   ]
  },
  {
   "cell_type": "code",
   "execution_count": 28,
   "id": "c50c7903",
   "metadata": {},
   "outputs": [],
   "source": [
    "del df1[\"Screen Resolution\"]"
   ]
  },
  {
   "cell_type": "code",
   "execution_count": 29,
   "id": "c903044e",
   "metadata": {},
   "outputs": [],
   "source": [
    "def gpu_comp(s):\n",
    "    \n",
    "    if s == \"nan\":\n",
    "        return \"none\"\n",
    "    \n",
    "    sr = s.split(\" \")\n",
    "    \n",
    "    if sr[0] == \"na\":\n",
    "        return \"none\"\n",
    "    \n",
    "    for ele in sr:\n",
    "        if ele == \"integrated\":\n",
    "            return \"none\"   \n",
    "    return sr[0]"
   ]
  },
  {
   "cell_type": "code",
   "execution_count": 30,
   "id": "5c1031fd",
   "metadata": {},
   "outputs": [],
   "source": [
    "df1[\"gpu_brand\"] = df1[\"Graphic Processor\"].apply(gpu_comp)"
   ]
  },
  {
   "cell_type": "code",
   "execution_count": 31,
   "id": "949d9275",
   "metadata": {},
   "outputs": [],
   "source": [
    "gpu_brand_dict = encode_to_int(list(df1[\"gpu_brand\"].unique())) \n",
    "\n",
    "def func0(s):\n",
    "    return gpu_brand_dict[s]\n",
    "\n",
    "df1[\"gpu_brand\"] = df1[\"gpu_brand\"].apply(func0)"
   ]
  },
  {
   "cell_type": "code",
   "execution_count": 32,
   "id": "3dbdf0b6",
   "metadata": {},
   "outputs": [
    {
     "data": {
      "text/plain": [
       "{'nvidia': 1, 'none': 2, 'amd': 3, 'qualcomm': 4}"
      ]
     },
     "execution_count": 32,
     "metadata": {},
     "output_type": "execute_result"
    }
   ],
   "source": [
    "gpu_brand_dict"
   ]
  },
  {
   "cell_type": "code",
   "execution_count": 33,
   "id": "8769936b",
   "metadata": {},
   "outputs": [
    {
     "data": {
      "text/plain": [
       "{1: 'nvidia', 2: 'none', 3: 'amd', 4: 'qualcomm'}"
      ]
     },
     "execution_count": 33,
     "metadata": {},
     "output_type": "execute_result"
    }
   ],
   "source": [
    "inv_gpub_dict = {v: k for k, v in gpu_brand_dict.items()}\n",
    "inv_gpub_dict"
   ]
  },
  {
   "cell_type": "code",
   "execution_count": 34,
   "id": "18b9afa2",
   "metadata": {},
   "outputs": [
    {
     "name": "stdout",
     "output_type": "stream",
     "text": [
      "['gaming laptop' 'thin and light laptop' '2 in 1 laptop' 'notebook'\n",
      " 'laptop' '2 in 1 gaming laptop' 'business laptop' 'chromebook'\n",
      " 'creator laptop']\n"
     ]
    },
    {
     "data": {
      "text/plain": [
       "array([1, 2, 3, 4, 5, 6, 7, 8, 9])"
      ]
     },
     "execution_count": 34,
     "metadata": {},
     "output_type": "execute_result"
    }
   ],
   "source": [
    "def func1(s):\n",
    "    return type_dict[s]\n",
    "\n",
    "print(df1[\"Type\"].unique())\n",
    "## No nan values in the given column\n",
    "\n",
    "type_dict = encode_to_int(df1[\"Type\"].unique())\n",
    "\n",
    "df1[\"Type\"] = df1[\"Type\"].apply(func1)\n",
    "df1[\"Type\"].unique()\n"
   ]
  },
  {
   "cell_type": "code",
   "execution_count": 35,
   "id": "a20dc1fb",
   "metadata": {},
   "outputs": [
    {
     "data": {
      "text/plain": [
       "{1: 'gaming laptop',\n",
       " 2: 'thin and light laptop',\n",
       " 3: '2 in 1 laptop',\n",
       " 4: 'notebook',\n",
       " 5: 'laptop',\n",
       " 6: '2 in 1 gaming laptop',\n",
       " 7: 'business laptop',\n",
       " 8: 'chromebook',\n",
       " 9: 'creator laptop'}"
      ]
     },
     "execution_count": 35,
     "metadata": {},
     "output_type": "execute_result"
    }
   ],
   "source": [
    "inv_type_dict = {v: k for k, v in type_dict.items()}\n",
    "inv_type_dict"
   ]
  },
  {
   "cell_type": "code",
   "execution_count": 36,
   "id": "d5316b9f",
   "metadata": {},
   "outputs": [],
   "source": [
    "def brand(s):\n",
    "    sr = s.split(\" \")\n",
    "    brand_name = sr[0].lower()\n",
    "    return brand_name\n",
    "\n",
    "df1[\"company\"] = df1[\"name\"].apply(brand)"
   ]
  },
  {
   "cell_type": "code",
   "execution_count": 37,
   "id": "c44c87ef",
   "metadata": {},
   "outputs": [
    {
     "data": {
      "text/plain": [
       "array(['asus', 'hp', 'lenovo', 'dell', 'msi', 'realme', 'avita', 'acer',\n",
       "       'samsung', 'infinix', 'lg', 'apple', 'nokia', 'redmibook', 'mi',\n",
       "       'vaio'], dtype=object)"
      ]
     },
     "execution_count": 37,
     "metadata": {},
     "output_type": "execute_result"
    }
   ],
   "source": [
    "df1[\"company\"].unique()"
   ]
  },
  {
   "cell_type": "code",
   "execution_count": 38,
   "id": "0c2e1a5c",
   "metadata": {},
   "outputs": [
    {
     "data": {
      "text/plain": [
       "array([ 1,  2,  3,  4,  5,  6,  7,  8,  9, 10, 11, 12, 13, 14, 15, 16])"
      ]
     },
     "execution_count": 38,
     "metadata": {},
     "output_type": "execute_result"
    }
   ],
   "source": [
    "def func00(s):\n",
    "    return company_dict[s]\n",
    "\n",
    "company_dict = encode_to_int(df1[\"company\"].unique())\n",
    "\n",
    "df1[\"company\"] = df1[\"company\"].apply(func00)\n",
    "df1[\"company\"].unique()"
   ]
  },
  {
   "cell_type": "code",
   "execution_count": 39,
   "id": "e01641af",
   "metadata": {},
   "outputs": [
    {
     "data": {
      "text/html": [
       "<div>\n",
       "<style scoped>\n",
       "    .dataframe tbody tr th:only-of-type {\n",
       "        vertical-align: middle;\n",
       "    }\n",
       "\n",
       "    .dataframe tbody tr th {\n",
       "        vertical-align: top;\n",
       "    }\n",
       "\n",
       "    .dataframe thead th {\n",
       "        text-align: right;\n",
       "    }\n",
       "</style>\n",
       "<table border=\"1\" class=\"dataframe\">\n",
       "  <thead>\n",
       "    <tr style=\"text-align: right;\">\n",
       "      <th></th>\n",
       "      <th>name</th>\n",
       "      <th>Price</th>\n",
       "      <th>Sales Package</th>\n",
       "      <th>Model Name</th>\n",
       "      <th>Series</th>\n",
       "      <th>Color</th>\n",
       "      <th>Type</th>\n",
       "      <th>Power Supply</th>\n",
       "      <th>Battery Cell</th>\n",
       "      <th>Dedicated Graphic Memory Type</th>\n",
       "      <th>...</th>\n",
       "      <th>Brightness</th>\n",
       "      <th>Face Recognition</th>\n",
       "      <th>System Architecture</th>\n",
       "      <th>Refresh Rate</th>\n",
       "      <th>HDD Capacity</th>\n",
       "      <th>Read/Write Speed</th>\n",
       "      <th>EMMC Storage Capacity</th>\n",
       "      <th>max_res</th>\n",
       "      <th>gpu_brand</th>\n",
       "      <th>company</th>\n",
       "    </tr>\n",
       "  </thead>\n",
       "  <tbody>\n",
       "  </tbody>\n",
       "</table>\n",
       "<p>0 rows × 46 columns</p>\n",
       "</div>"
      ],
      "text/plain": [
       "Empty DataFrame\n",
       "Columns: [name, Price, Sales Package, Model Name, Series, Color, Type, Power Supply, Battery Cell, Dedicated Graphic Memory Type, Dedicated Graphic Memory Capacity, Processor Brand, Processor Name, Processor Generation, SSD, SSD Capacity, RAM, RAM Type, Processor Variant, Clock Speed, Expandable Memory, Graphic Processor, Number of Cores, OS Architecture, Operating System, Supported Operating System, Touchscreen, Screen Size, Screen Type, Weight, Disk Drive, Finger Print Sensor, Backlit Keyboard, Web Camera, Battery Backup, Chipset, Brightness, Face Recognition, System Architecture, Refresh Rate, HDD Capacity, Read/Write Speed, EMMC Storage Capacity, max_res, gpu_brand, company]\n",
       "Index: []\n",
       "\n",
       "[0 rows x 46 columns]"
      ]
     },
     "execution_count": 39,
     "metadata": {},
     "output_type": "execute_result"
    }
   ],
   "source": [
    "df1[df1[\"Weight\"] == 0]"
   ]
  },
  {
   "cell_type": "code",
   "execution_count": 40,
   "id": "514c393b",
   "metadata": {},
   "outputs": [],
   "source": [
    "del df1[\"Power Supply\"]\n",
    "del df1[\"Sales Package\"]\n",
    "del df1[\"Model Name\"]\n",
    "del df1[\"Battery Cell\"]\n",
    "del df1[\"Color\"]\n",
    "del df1[\"Processor Variant\"]\n",
    "del df1[\"Supported Operating System\"]\n",
    "del df1[\"Screen Type\"]\n",
    "del df1[\"Disk Drive\"]\n",
    "del df1[\"Backlit Keyboard\"]\n",
    "del df1[\"Chipset\"]\n",
    "del df1[\"Brightness\"]\n",
    "del df1[\"System Architecture\"]\n",
    "del df1[\"Read/Write Speed\"]\n",
    "del df1[\"Clock Speed\"]\n",
    "del df1[\"Series\"]"
   ]
  },
  {
   "cell_type": "code",
   "execution_count": 41,
   "id": "a4bf7686",
   "metadata": {},
   "outputs": [
    {
     "data": {
      "text/plain": [
       "array(['1 tb', '512 gb', '256 gb', '128 gb', 0, '2 tb'], dtype=object)"
      ]
     },
     "execution_count": 41,
     "metadata": {},
     "output_type": "execute_result"
    }
   ],
   "source": [
    "df1[\"SSD Capacity\"] = df1[\"SSD Capacity\"].replace(\"nan\", 0)\n",
    "df1[\"SSD Capacity\"].unique()"
   ]
  },
  {
   "cell_type": "code",
   "execution_count": 42,
   "id": "32419a07",
   "metadata": {},
   "outputs": [
    {
     "data": {
      "text/plain": [
       "array([0, '512 gb', '1 tb'], dtype=object)"
      ]
     },
     "execution_count": 42,
     "metadata": {},
     "output_type": "execute_result"
    }
   ],
   "source": [
    "df1[\"HDD Capacity\"].unique()\n",
    "\n",
    "df1[\"HDD Capacity\"] = df1[\"HDD Capacity\"].replace(\"nan\", 0)\n",
    "df1[\"HDD Capacity\"].unique()"
   ]
  },
  {
   "cell_type": "code",
   "execution_count": 43,
   "id": "8d9428b4",
   "metadata": {},
   "outputs": [
    {
     "data": {
      "text/plain": [
       "['1', 'tb']"
      ]
     },
     "execution_count": 43,
     "metadata": {},
     "output_type": "execute_result"
    }
   ],
   "source": [
    "df1[\"SSD Capacity\"][0].split(\" \")"
   ]
  },
  {
   "cell_type": "code",
   "execution_count": 44,
   "id": "32644220",
   "metadata": {},
   "outputs": [
    {
     "name": "stderr",
     "output_type": "stream",
     "text": [
      "/var/folders/40/9gyjgz6n6z18_0jt39l92nc40000gn/T/ipykernel_57516/2583597028.py:8: SettingWithCopyWarning: \n",
      "A value is trying to be set on a copy of a slice from a DataFrame\n",
      "\n",
      "See the caveats in the documentation: https://pandas.pydata.org/pandas-docs/stable/user_guide/indexing.html#returning-a-view-versus-a-copy\n",
      "  df1[\"SSD Capacity\"][i] = int(x[0])*1000\n",
      "/var/folders/40/9gyjgz6n6z18_0jt39l92nc40000gn/T/ipykernel_57516/2583597028.py:10: SettingWithCopyWarning: \n",
      "A value is trying to be set on a copy of a slice from a DataFrame\n",
      "\n",
      "See the caveats in the documentation: https://pandas.pydata.org/pandas-docs/stable/user_guide/indexing.html#returning-a-view-versus-a-copy\n",
      "  df1[\"SSD Capacity\"][i] = int(x[0])\n",
      "/var/folders/40/9gyjgz6n6z18_0jt39l92nc40000gn/T/ipykernel_57516/2583597028.py:3: SettingWithCopyWarning: \n",
      "A value is trying to be set on a copy of a slice from a DataFrame\n",
      "\n",
      "See the caveats in the documentation: https://pandas.pydata.org/pandas-docs/stable/user_guide/indexing.html#returning-a-view-versus-a-copy\n",
      "  df1[\"SSD Capacity\"][i] = 0\n"
     ]
    }
   ],
   "source": [
    "for i in range(df1.shape[0]):\n",
    "    if(df1[\"SSD Capacity\"][i]== 0):\n",
    "        df1[\"SSD Capacity\"][i] = 0\n",
    "        continue\n",
    "    else:\n",
    "        x = df1[\"SSD Capacity\"][i].split(\" \")\n",
    "        if(x[1] == \"tb\"):\n",
    "            df1[\"SSD Capacity\"][i] = int(x[0])*1000\n",
    "        else:\n",
    "            df1[\"SSD Capacity\"][i] = int(x[0])"
   ]
  },
  {
   "cell_type": "code",
   "execution_count": 45,
   "id": "21ac7a66",
   "metadata": {},
   "outputs": [
    {
     "name": "stderr",
     "output_type": "stream",
     "text": [
      "/var/folders/40/9gyjgz6n6z18_0jt39l92nc40000gn/T/ipykernel_57516/4056575979.py:5: SettingWithCopyWarning: \n",
      "A value is trying to be set on a copy of a slice from a DataFrame\n",
      "\n",
      "See the caveats in the documentation: https://pandas.pydata.org/pandas-docs/stable/user_guide/indexing.html#returning-a-view-versus-a-copy\n",
      "  df1[\"EMMC Storage Capacity\"][i] = 0\n",
      "/var/folders/40/9gyjgz6n6z18_0jt39l92nc40000gn/T/ipykernel_57516/4056575979.py:9: SettingWithCopyWarning: \n",
      "A value is trying to be set on a copy of a slice from a DataFrame\n",
      "\n",
      "See the caveats in the documentation: https://pandas.pydata.org/pandas-docs/stable/user_guide/indexing.html#returning-a-view-versus-a-copy\n",
      "  df1[\"EMMC Storage Capacity\"][i] = int(x[0])\n"
     ]
    }
   ],
   "source": [
    "# df1[\"EMMC Storage Capacity\"]\n",
    "\n",
    "for i in range(df1.shape[0]):\n",
    "    if(df1[\"EMMC Storage Capacity\"][i]== \"nan\"):\n",
    "        df1[\"EMMC Storage Capacity\"][i] = 0\n",
    "        continue\n",
    "    else:\n",
    "        x = df1[\"EMMC Storage Capacity\"][i].split(\" \")\n",
    "        df1[\"EMMC Storage Capacity\"][i] = int(x[0])"
   ]
  },
  {
   "cell_type": "code",
   "execution_count": 46,
   "id": "bd4007c4",
   "metadata": {},
   "outputs": [
    {
     "data": {
      "text/plain": [
       "array([1000, 512, 256, 128, 0, 2000], dtype=object)"
      ]
     },
     "execution_count": 46,
     "metadata": {},
     "output_type": "execute_result"
    }
   ],
   "source": [
    "df1[\"SSD Capacity\"].unique()"
   ]
  },
  {
   "cell_type": "code",
   "execution_count": 47,
   "id": "ff66b702",
   "metadata": {},
   "outputs": [
    {
     "name": "stderr",
     "output_type": "stream",
     "text": [
      "/var/folders/40/9gyjgz6n6z18_0jt39l92nc40000gn/T/ipykernel_57516/3733312581.py:3: SettingWithCopyWarning: \n",
      "A value is trying to be set on a copy of a slice from a DataFrame\n",
      "\n",
      "See the caveats in the documentation: https://pandas.pydata.org/pandas-docs/stable/user_guide/indexing.html#returning-a-view-versus-a-copy\n",
      "  df1[\"HDD Capacity\"][i] = 0\n",
      "/var/folders/40/9gyjgz6n6z18_0jt39l92nc40000gn/T/ipykernel_57516/3733312581.py:10: SettingWithCopyWarning: \n",
      "A value is trying to be set on a copy of a slice from a DataFrame\n",
      "\n",
      "See the caveats in the documentation: https://pandas.pydata.org/pandas-docs/stable/user_guide/indexing.html#returning-a-view-versus-a-copy\n",
      "  df1[\"HDD Capacity\"][i] = int(x[0])\n",
      "/var/folders/40/9gyjgz6n6z18_0jt39l92nc40000gn/T/ipykernel_57516/3733312581.py:8: SettingWithCopyWarning: \n",
      "A value is trying to be set on a copy of a slice from a DataFrame\n",
      "\n",
      "See the caveats in the documentation: https://pandas.pydata.org/pandas-docs/stable/user_guide/indexing.html#returning-a-view-versus-a-copy\n",
      "  df1[\"HDD Capacity\"][i] = int(x[0])*1000\n"
     ]
    }
   ],
   "source": [
    "for i in range(df1.shape[0]):\n",
    "    if(df1[\"HDD Capacity\"][i]== 0):\n",
    "        df1[\"HDD Capacity\"][i] = 0\n",
    "        continue\n",
    "    else:\n",
    "        x = df1[\"HDD Capacity\"][i].split(\" \")\n",
    "        if(x[1] == \"tb\"):\n",
    "            df1[\"HDD Capacity\"][i] = int(x[0])*1000\n",
    "        else:\n",
    "            df1[\"HDD Capacity\"][i] = int(x[0])\n",
    "        "
   ]
  },
  {
   "cell_type": "code",
   "execution_count": 48,
   "id": "da035097",
   "metadata": {},
   "outputs": [
    {
     "data": {
      "text/plain": [
       "array([0, 512, 1000], dtype=object)"
      ]
     },
     "execution_count": 48,
     "metadata": {},
     "output_type": "execute_result"
    }
   ],
   "source": [
    "df1[\"HDD Capacity\"].unique()"
   ]
  },
  {
   "cell_type": "code",
   "execution_count": 49,
   "id": "2bf0927d",
   "metadata": {},
   "outputs": [
    {
     "data": {
      "text/plain": [
       "Index(['name', 'Price', 'Type', 'Dedicated Graphic Memory Type',\n",
       "       'Dedicated Graphic Memory Capacity', 'Processor Brand',\n",
       "       'Processor Name', 'Processor Generation', 'SSD', 'SSD Capacity', 'RAM',\n",
       "       'RAM Type', 'Expandable Memory', 'Graphic Processor', 'Number of Cores',\n",
       "       'OS Architecture', 'Operating System', 'Touchscreen', 'Screen Size',\n",
       "       'Weight', 'Finger Print Sensor', 'Web Camera', 'Battery Backup',\n",
       "       'Face Recognition', 'Refresh Rate', 'HDD Capacity',\n",
       "       'EMMC Storage Capacity', 'max_res', 'gpu_brand', 'company'],\n",
       "      dtype='object')"
      ]
     },
     "execution_count": 49,
     "metadata": {},
     "output_type": "execute_result"
    }
   ],
   "source": [
    "df1.columns\n"
   ]
  },
  {
   "cell_type": "code",
   "execution_count": 50,
   "id": "28fd5aa2",
   "metadata": {},
   "outputs": [],
   "source": [
    "df1[\"Storage\"] = df1[\"HDD Capacity\"] + df1[\"SSD Capacity\"] + df1[\"EMMC Storage Capacity\"]"
   ]
  },
  {
   "cell_type": "code",
   "execution_count": 51,
   "id": "bed2bc07",
   "metadata": {},
   "outputs": [],
   "source": [
    "del df1[\"SSD Capacity\"]\n",
    "del df1[\"HDD Capacity\"]\n",
    "del df1[\"EMMC Storage Capacity\"]"
   ]
  },
  {
   "cell_type": "code",
   "execution_count": 52,
   "id": "971b238b",
   "metadata": {},
   "outputs": [
    {
     "name": "stderr",
     "output_type": "stream",
     "text": [
      "/var/folders/40/9gyjgz6n6z18_0jt39l92nc40000gn/T/ipykernel_57516/3399657821.py:1: SettingWithCopyWarning: \n",
      "A value is trying to be set on a copy of a slice from a DataFrame\n",
      "\n",
      "See the caveats in the documentation: https://pandas.pydata.org/pandas-docs/stable/user_guide/indexing.html#returning-a-view-versus-a-copy\n",
      "  df1[\"Storage\"].iloc[265] = 1000\n"
     ]
    }
   ],
   "source": [
    "df1[\"Storage\"].iloc[265] = 1000"
   ]
  },
  {
   "cell_type": "code",
   "execution_count": 53,
   "id": "97df839c",
   "metadata": {},
   "outputs": [],
   "source": [
    "del df1[\"Web Camera\"]"
   ]
  },
  {
   "cell_type": "code",
   "execution_count": 54,
   "id": "b67d284f",
   "metadata": {},
   "outputs": [],
   "source": [
    "def ls(s): \n",
    "    \n",
    "    # initialize an empty string\n",
    "    str1 = \"\" \n",
    "    \n",
    "    # traverse in the string  \n",
    "    for ele in s: \n",
    "        str1 += ele  \n",
    "    \n",
    "    # return string  \n",
    "    return str1 "
   ]
  },
  {
   "cell_type": "code",
   "execution_count": 55,
   "id": "f95fbfeb",
   "metadata": {},
   "outputs": [
    {
     "name": "stderr",
     "output_type": "stream",
     "text": [
      "/var/folders/40/9gyjgz6n6z18_0jt39l92nc40000gn/T/ipykernel_57516/4084947513.py:8: SettingWithCopyWarning: \n",
      "A value is trying to be set on a copy of a slice from a DataFrame\n",
      "\n",
      "See the caveats in the documentation: https://pandas.pydata.org/pandas-docs/stable/user_guide/indexing.html#returning-a-view-versus-a-copy\n",
      "  df1[\"Price\"][i] = int(rate)\n"
     ]
    }
   ],
   "source": [
    "for i in range(df1.shape[0]):\n",
    "    x = df1[\"Price\"][i].split(\"?\")\n",
    "    y = ls(x[1])\n",
    "    y = y.split(\",\")\n",
    "    temp = \"\"\n",
    "    rate = temp.join(y)\n",
    "    \n",
    "    df1[\"Price\"][i] = int(rate)"
   ]
  },
  {
   "cell_type": "code",
   "execution_count": 56,
   "id": "5246c19d",
   "metadata": {},
   "outputs": [
    {
     "data": {
      "text/plain": [
       "(433,)"
      ]
     },
     "execution_count": 56,
     "metadata": {},
     "output_type": "execute_result"
    }
   ],
   "source": [
    "df1[\"Price\"].unique().shape"
   ]
  },
  {
   "cell_type": "code",
   "execution_count": 57,
   "id": "33eb5794",
   "metadata": {},
   "outputs": [
    {
     "data": {
      "text/plain": [
       "array(['gddr6', 'nan', 'ddr4', 'gddr3', 'gddr5', 'ddr5'], dtype=object)"
      ]
     },
     "execution_count": 57,
     "metadata": {},
     "output_type": "execute_result"
    }
   ],
   "source": [
    "df1[\"Dedicated Graphic Memory Type\"].unique()\n"
   ]
  },
  {
   "cell_type": "code",
   "execution_count": 58,
   "id": "a2741e9b",
   "metadata": {},
   "outputs": [],
   "source": [
    "del df1[\"Dedicated Graphic Memory Type\"]"
   ]
  },
  {
   "cell_type": "code",
   "execution_count": 59,
   "id": "ef8ec9de",
   "metadata": {},
   "outputs": [
    {
     "data": {
      "text/plain": [
       "array([1, 2, 3, 4, 5, 6, 7, 8, 9])"
      ]
     },
     "execution_count": 59,
     "metadata": {},
     "output_type": "execute_result"
    }
   ],
   "source": [
    "df1[\"Type\"].unique()"
   ]
  },
  {
   "cell_type": "code",
   "execution_count": 60,
   "id": "a70736f7",
   "metadata": {},
   "outputs": [],
   "source": [
    "df1[\"Dedicated Graphic Memory Capacity\"] = df1[\"Dedicated Graphic Memory Capacity\"].replace(\"nan\", 0)"
   ]
  },
  {
   "cell_type": "code",
   "execution_count": 61,
   "id": "aca0348e",
   "metadata": {},
   "outputs": [],
   "source": [
    "def gpu_mem(s):\n",
    "    \n",
    "    if s == 0:\n",
    "        return 0\n",
    "    s = s.split(' ')\n",
    "#     print(s)\n",
    "    \n",
    "    if s[1] == \"gb\":\n",
    "        return int(s[0])*1024\n",
    "    \n",
    "    if s[1] == \"mb\":\n",
    "        return int(s[0])"
   ]
  },
  {
   "cell_type": "code",
   "execution_count": 62,
   "id": "cc935e75",
   "metadata": {},
   "outputs": [],
   "source": [
    "df1[\"Dedicated Graphic Memory Capacity\"] = df1[\"Dedicated Graphic Memory Capacity\"].apply(gpu_mem)"
   ]
  },
  {
   "cell_type": "code",
   "execution_count": 63,
   "id": "f2d7cc31",
   "metadata": {},
   "outputs": [
    {
     "data": {
      "text/plain": [
       "array([ 8192,  4096,     0,  6144,  2048, 16384,   128, 10240,   512,\n",
       "       12288])"
      ]
     },
     "execution_count": 63,
     "metadata": {},
     "output_type": "execute_result"
    }
   ],
   "source": [
    "df1[\"Dedicated Graphic Memory Capacity\"].unique()"
   ]
  },
  {
   "cell_type": "code",
   "execution_count": 64,
   "id": "8a190541",
   "metadata": {},
   "outputs": [],
   "source": [
    "processor_names = df1[\"Processor Brand\"].astype(str) +\" \"+ df1[\"Processor Name\"].astype(str) +\" \"+df1[\"Processor Generation\"].astype(str)"
   ]
  },
  {
   "cell_type": "code",
   "execution_count": 65,
   "id": "036cd6bb",
   "metadata": {},
   "outputs": [],
   "source": [
    "processor_names = list(processor_names.unique())"
   ]
  },
  {
   "cell_type": "code",
   "execution_count": 66,
   "id": "40e61f54",
   "metadata": {},
   "outputs": [],
   "source": [
    "final_proc_names = []\n",
    "for i in range(len(processor_names)):\n",
    "    pres_str = processor_names[i]\n",
    "    if pres_str.endswith(\"nan\"):\n",
    "        temp_str = pres_str[:-4]\n",
    "        final_proc_names.append(temp_str)\n",
    "        \n",
    "    else:\n",
    "        final_proc_names.append(pres_str)"
   ]
  },
  {
   "cell_type": "code",
   "execution_count": 67,
   "id": "9a868936",
   "metadata": {},
   "outputs": [
    {
     "data": {
      "text/plain": [
       "array(['intel', 'amd', 'qualcomm', 'apple', 'mediatek'], dtype=object)"
      ]
     },
     "execution_count": 67,
     "metadata": {},
     "output_type": "execute_result"
    }
   ],
   "source": [
    "df1[\"Processor Brand\"].unique()"
   ]
  },
  {
   "cell_type": "code",
   "execution_count": 68,
   "id": "eb8062be",
   "metadata": {},
   "outputs": [],
   "source": [
    "processor_brand_dict = encode_to_int(list(df1[\"Processor Brand\"].unique())) \n",
    "def func2(s):\n",
    "    return processor_brand_dict[s]\n",
    "df1[\"Processor Brand\"] = df1[\"Processor Brand\"].apply(func2)"
   ]
  },
  {
   "cell_type": "code",
   "execution_count": 69,
   "id": "7c53e252",
   "metadata": {},
   "outputs": [],
   "source": [
    "processor_name_dict = encode_to_int(list(df1[\"Processor Name\"].unique())) \n",
    "def func3(s):\n",
    "    return processor_name_dict[s]\n",
    "df1[\"Processor Name\"] = df1[\"Processor Name\"].apply(func3)\n"
   ]
  },
  {
   "cell_type": "code",
   "execution_count": 70,
   "id": "a5c946ec",
   "metadata": {},
   "outputs": [
    {
     "data": {
      "text/plain": [
       "array(['12th gen', 'nan', '5th gen', '11th gen', '10th gen', '7th gen',\n",
       "       '3rd gen', '9th gen', '4th gen', '8th gen'], dtype=object)"
      ]
     },
     "execution_count": 70,
     "metadata": {},
     "output_type": "execute_result"
    }
   ],
   "source": [
    "df1[\"Processor Generation\"].unique()"
   ]
  },
  {
   "cell_type": "code",
   "execution_count": 71,
   "id": "2903e6ac",
   "metadata": {},
   "outputs": [
    {
     "data": {
      "text/plain": [
       "array(['yes', 'no'], dtype=object)"
      ]
     },
     "execution_count": 71,
     "metadata": {},
     "output_type": "execute_result"
    }
   ],
   "source": [
    "df1[\"SSD\"].unique()"
   ]
  },
  {
   "cell_type": "code",
   "execution_count": 72,
   "id": "f9b7fbaf",
   "metadata": {},
   "outputs": [
    {
     "name": "stderr",
     "output_type": "stream",
     "text": [
      "/var/folders/40/9gyjgz6n6z18_0jt39l92nc40000gn/T/ipykernel_57516/71129127.py:3: SettingWithCopyWarning: \n",
      "A value is trying to be set on a copy of a slice from a DataFrame\n",
      "\n",
      "See the caveats in the documentation: https://pandas.pydata.org/pandas-docs/stable/user_guide/indexing.html#returning-a-view-versus-a-copy\n",
      "  df1[\"SSD\"][i] = 1\n",
      "/var/folders/40/9gyjgz6n6z18_0jt39l92nc40000gn/T/ipykernel_57516/71129127.py:5: SettingWithCopyWarning: \n",
      "A value is trying to be set on a copy of a slice from a DataFrame\n",
      "\n",
      "See the caveats in the documentation: https://pandas.pydata.org/pandas-docs/stable/user_guide/indexing.html#returning-a-view-versus-a-copy\n",
      "  df1[\"SSD\"][i] = 0\n"
     ]
    }
   ],
   "source": [
    "for i in range(df1.shape[0]):\n",
    "    if(df1[\"SSD\"][i] == \"yes\"):\n",
    "        df1[\"SSD\"][i] = 1\n",
    "    else:\n",
    "        df1[\"SSD\"][i] = 0"
   ]
  },
  {
   "cell_type": "code",
   "execution_count": 73,
   "id": "368d6c06",
   "metadata": {},
   "outputs": [
    {
     "data": {
      "text/plain": [
       "array([1, 0], dtype=object)"
      ]
     },
     "execution_count": 73,
     "metadata": {},
     "output_type": "execute_result"
    }
   ],
   "source": [
    "df1[\"SSD\"].unique()"
   ]
  },
  {
   "cell_type": "code",
   "execution_count": 74,
   "id": "1106da25",
   "metadata": {},
   "outputs": [],
   "source": [
    "del df1[\"RAM Type\"]"
   ]
  },
  {
   "cell_type": "code",
   "execution_count": 75,
   "id": "75989be0",
   "metadata": {},
   "outputs": [
    {
     "name": "stderr",
     "output_type": "stream",
     "text": [
      "/var/folders/40/9gyjgz6n6z18_0jt39l92nc40000gn/T/ipykernel_57516/3299221052.py:3: SettingWithCopyWarning: \n",
      "A value is trying to be set on a copy of a slice from a DataFrame\n",
      "\n",
      "See the caveats in the documentation: https://pandas.pydata.org/pandas-docs/stable/user_guide/indexing.html#returning-a-view-versus-a-copy\n",
      "  df1[\"RAM\"][i] = int(x[0])\n"
     ]
    }
   ],
   "source": [
    "for i in range(df1.shape[0]):\n",
    "    x = df1[\"RAM\"][i].split(\" \")\n",
    "    df1[\"RAM\"][i] = int(x[0])"
   ]
  },
  {
   "cell_type": "code",
   "execution_count": 76,
   "id": "9b48a5a5",
   "metadata": {},
   "outputs": [
    {
     "data": {
      "text/plain": [
       "array([32, 16, 4, 8], dtype=object)"
      ]
     },
     "execution_count": 76,
     "metadata": {},
     "output_type": "execute_result"
    }
   ],
   "source": [
    "df1[\"RAM\"].unique()"
   ]
  },
  {
   "cell_type": "code",
   "execution_count": 77,
   "id": "4ffb4e44",
   "metadata": {},
   "outputs": [
    {
     "name": "stderr",
     "output_type": "stream",
     "text": [
      "/var/folders/40/9gyjgz6n6z18_0jt39l92nc40000gn/T/ipykernel_57516/810842835.py:5: SettingWithCopyWarning: \n",
      "A value is trying to be set on a copy of a slice from a DataFrame\n",
      "\n",
      "See the caveats in the documentation: https://pandas.pydata.org/pandas-docs/stable/user_guide/indexing.html#returning-a-view-versus-a-copy\n",
      "  df1[\"Expandable Memory\"][i] = 1\n",
      "/var/folders/40/9gyjgz6n6z18_0jt39l92nc40000gn/T/ipykernel_57516/810842835.py:3: SettingWithCopyWarning: \n",
      "A value is trying to be set on a copy of a slice from a DataFrame\n",
      "\n",
      "See the caveats in the documentation: https://pandas.pydata.org/pandas-docs/stable/user_guide/indexing.html#returning-a-view-versus-a-copy\n",
      "  df1[\"Expandable Memory\"][i] = 0\n"
     ]
    }
   ],
   "source": [
    "for i in range(df1.shape[0]):\n",
    "    if(df1[\"Expandable Memory\"][i] == \"nan\"):\n",
    "        df1[\"Expandable Memory\"][i] = 0\n",
    "    else:\n",
    "        df1[\"Expandable Memory\"][i] = 1"
   ]
  },
  {
   "cell_type": "code",
   "execution_count": 78,
   "id": "23d72168",
   "metadata": {},
   "outputs": [
    {
     "data": {
      "text/plain": [
       "array([1, 0], dtype=object)"
      ]
     },
     "execution_count": 78,
     "metadata": {},
     "output_type": "execute_result"
    }
   ],
   "source": [
    "df1[\"Expandable Memory\"].unique()"
   ]
  },
  {
   "cell_type": "code",
   "execution_count": 79,
   "id": "8af30baf",
   "metadata": {},
   "outputs": [
    {
     "data": {
      "text/plain": [
       "Index(['name', 'Price', 'Type', 'Dedicated Graphic Memory Capacity',\n",
       "       'Processor Brand', 'Processor Name', 'Processor Generation', 'SSD',\n",
       "       'RAM', 'Expandable Memory', 'Graphic Processor', 'Number of Cores',\n",
       "       'OS Architecture', 'Operating System', 'Touchscreen', 'Screen Size',\n",
       "       'Weight', 'Finger Print Sensor', 'Battery Backup', 'Face Recognition',\n",
       "       'Refresh Rate', 'max_res', 'gpu_brand', 'company', 'Storage'],\n",
       "      dtype='object')"
      ]
     },
     "execution_count": 79,
     "metadata": {},
     "output_type": "execute_result"
    }
   ],
   "source": [
    "df1.columns"
   ]
  },
  {
   "cell_type": "code",
   "execution_count": 80,
   "id": "9c338477",
   "metadata": {},
   "outputs": [],
   "source": [
    "del df1[\"Number of Cores\"]"
   ]
  },
  {
   "cell_type": "code",
   "execution_count": 81,
   "id": "f93183c8",
   "metadata": {},
   "outputs": [],
   "source": [
    "df1[df1[\"OS Architecture\"] == \"nan\"]\n",
    "del df1[\"OS Architecture\"]"
   ]
  },
  {
   "cell_type": "code",
   "execution_count": 82,
   "id": "66226208",
   "metadata": {},
   "outputs": [
    {
     "data": {
      "text/plain": [
       "0      windows 11 home\n",
       "1      windows 11 home\n",
       "2      windows 11 home\n",
       "3      windows 11 home\n",
       "4      windows 11 home\n",
       "            ...       \n",
       "979    windows 10 home\n",
       "980    windows 10 home\n",
       "981     windows 10 pro\n",
       "982             chrome\n",
       "983     windows 10 pro\n",
       "Name: Operating System, Length: 984, dtype: object"
      ]
     },
     "execution_count": 82,
     "metadata": {},
     "output_type": "execute_result"
    }
   ],
   "source": [
    "df1[\"Operating System\"]"
   ]
  },
  {
   "cell_type": "code",
   "execution_count": 83,
   "id": "41df401c",
   "metadata": {},
   "outputs": [
    {
     "name": "stderr",
     "output_type": "stream",
     "text": [
      "/var/folders/40/9gyjgz6n6z18_0jt39l92nc40000gn/T/ipykernel_57516/2937846803.py:6: SettingWithCopyWarning: \n",
      "A value is trying to be set on a copy of a slice from a DataFrame\n",
      "\n",
      "See the caveats in the documentation: https://pandas.pydata.org/pandas-docs/stable/user_guide/indexing.html#returning-a-view-versus-a-copy\n",
      "  df1[\"Operating System\"][i] = \"windows\"\n",
      "/var/folders/40/9gyjgz6n6z18_0jt39l92nc40000gn/T/ipykernel_57516/2937846803.py:8: SettingWithCopyWarning: \n",
      "A value is trying to be set on a copy of a slice from a DataFrame\n",
      "\n",
      "See the caveats in the documentation: https://pandas.pydata.org/pandas-docs/stable/user_guide/indexing.html#returning-a-view-versus-a-copy\n",
      "  df1[\"Operating System\"][i] = \"mac\"\n"
     ]
    }
   ],
   "source": [
    "df1[\"Operating System\"].unique()\n",
    "\n",
    "for i in range(df1.shape[0]):\n",
    "    x = df1[\"Operating System\"][i].split(\" \")\n",
    "    if(x[0] == \"Windows\" or x[0] == \"windows\"):\n",
    "        df1[\"Operating System\"][i] = \"windows\"\n",
    "    if(x[0] == \"mac\"):\n",
    "        df1[\"Operating System\"][i] = \"mac\""
   ]
  },
  {
   "cell_type": "code",
   "execution_count": 84,
   "id": "b13e1f83",
   "metadata": {},
   "outputs": [
    {
     "data": {
      "text/plain": [
       "array(['windows', 'chrome', 'dos', 'mac', 'ubuntu'], dtype=object)"
      ]
     },
     "execution_count": 84,
     "metadata": {},
     "output_type": "execute_result"
    }
   ],
   "source": [
    "df1[\"Operating System\"].unique()"
   ]
  },
  {
   "cell_type": "code",
   "execution_count": 85,
   "id": "c64c1113",
   "metadata": {},
   "outputs": [],
   "source": [
    "def func3(s):\n",
    "    return os_dict[s]"
   ]
  },
  {
   "cell_type": "code",
   "execution_count": 86,
   "id": "10da9d22",
   "metadata": {},
   "outputs": [],
   "source": [
    "os_dict = encode_to_int(list(df1[\"Operating System\"].unique())) \n",
    "df1[\"Operating System\"] = df1[\"Operating System\"].apply(func3)\n"
   ]
  },
  {
   "cell_type": "code",
   "execution_count": 87,
   "id": "f7bffb3b",
   "metadata": {},
   "outputs": [
    {
     "data": {
      "text/plain": [
       "array([1, 2, 3, 4, 5])"
      ]
     },
     "execution_count": 87,
     "metadata": {},
     "output_type": "execute_result"
    }
   ],
   "source": [
    "df1[\"Operating System\"].unique()"
   ]
  },
  {
   "cell_type": "code",
   "execution_count": 88,
   "id": "2e2f0bf1",
   "metadata": {},
   "outputs": [
    {
     "data": {
      "text/plain": [
       "array([1, 2, 3, 4, 5, 6, 7, 8, 9])"
      ]
     },
     "execution_count": 88,
     "metadata": {},
     "output_type": "execute_result"
    }
   ],
   "source": [
    "df1[\"Type\"].unique()"
   ]
  },
  {
   "cell_type": "code",
   "execution_count": 89,
   "id": "a360bb62",
   "metadata": {},
   "outputs": [
    {
     "data": {
      "text/plain": [
       "Index(['name', 'Price', 'Type', 'Dedicated Graphic Memory Capacity',\n",
       "       'Processor Brand', 'Processor Name', 'Processor Generation', 'SSD',\n",
       "       'RAM', 'Expandable Memory', 'Graphic Processor', 'Operating System',\n",
       "       'Touchscreen', 'Screen Size', 'Weight', 'Finger Print Sensor',\n",
       "       'Battery Backup', 'Face Recognition', 'Refresh Rate', 'max_res',\n",
       "       'gpu_brand', 'company', 'Storage'],\n",
       "      dtype='object')"
      ]
     },
     "execution_count": 89,
     "metadata": {},
     "output_type": "execute_result"
    }
   ],
   "source": [
    "df1.columns"
   ]
  },
  {
   "cell_type": "code",
   "execution_count": 90,
   "id": "20489283",
   "metadata": {},
   "outputs": [
    {
     "data": {
      "text/plain": [
       "array(['no', 'yes'], dtype=object)"
      ]
     },
     "execution_count": 90,
     "metadata": {},
     "output_type": "execute_result"
    }
   ],
   "source": [
    "df1[\"Touchscreen\"].unique()"
   ]
  },
  {
   "cell_type": "code",
   "execution_count": 91,
   "id": "0d7298a8",
   "metadata": {},
   "outputs": [
    {
     "name": "stderr",
     "output_type": "stream",
     "text": [
      "/var/folders/40/9gyjgz6n6z18_0jt39l92nc40000gn/T/ipykernel_57516/3219095053.py:3: SettingWithCopyWarning: \n",
      "A value is trying to be set on a copy of a slice from a DataFrame\n",
      "\n",
      "See the caveats in the documentation: https://pandas.pydata.org/pandas-docs/stable/user_guide/indexing.html#returning-a-view-versus-a-copy\n",
      "  df1[\"Touchscreen\"][i] = 0\n",
      "/var/folders/40/9gyjgz6n6z18_0jt39l92nc40000gn/T/ipykernel_57516/3219095053.py:5: SettingWithCopyWarning: \n",
      "A value is trying to be set on a copy of a slice from a DataFrame\n",
      "\n",
      "See the caveats in the documentation: https://pandas.pydata.org/pandas-docs/stable/user_guide/indexing.html#returning-a-view-versus-a-copy\n",
      "  df1[\"Touchscreen\"][i] = 1\n"
     ]
    }
   ],
   "source": [
    "for i in range(df1.shape[0]):\n",
    "    if(df1[\"Touchscreen\"][i] == \"no\"):\n",
    "        df1[\"Touchscreen\"][i] = 0\n",
    "    else:\n",
    "        df1[\"Touchscreen\"][i] = 1"
   ]
  },
  {
   "cell_type": "code",
   "execution_count": 92,
   "id": "273d4b05",
   "metadata": {},
   "outputs": [
    {
     "data": {
      "text/plain": [
       "array(['43.94 cm (17.3 inch)', '39.62 cm (15.6 inch)',\n",
       "       '40.89 cm (16.1 inch)', '35.56 cm (14 inch)',\n",
       "       '33.78 cm (13.3 inch)', '34.04 cm (13.4 inch)',\n",
       "       '39.62 cm (15.6 inches)', '35.81 cm (14.1 inch)',\n",
       "       '42.16 cm (16.6 inch)', '29.46 cm (11.6 inch)',\n",
       "       '40.64 cm (16 inch)', '38.0 cm (14.96 cm)', '38.0 cm (14.96 inch)',\n",
       "       '36.12 cm (14.22 inch)', '38.1 cm (15 inch)',\n",
       "       '34.29 cm (13.5 inch)', '35.56 cm (14 inches)',\n",
       "       '30.48 cm (12 inch)', '36.07 cm (14.2 inch)', '33.02 cm (13 inch)',\n",
       "       '43.94 cm (17.3 inches)', '33.78 cm (13.3 inches)',\n",
       "       '38.86 cm (15.3 inch)', '34.04 cm (13.4 inches)',\n",
       "       '37.85 cm (14.9 inch)', '36.83 cm (14.5 inch)',\n",
       "       '34.54 cm (13.6 inch)'], dtype=object)"
      ]
     },
     "execution_count": 92,
     "metadata": {},
     "output_type": "execute_result"
    }
   ],
   "source": [
    "df1[\"Screen Size\"].unique()"
   ]
  },
  {
   "cell_type": "code",
   "execution_count": 93,
   "id": "c37a7867",
   "metadata": {},
   "outputs": [
    {
     "name": "stderr",
     "output_type": "stream",
     "text": [
      "/var/folders/40/9gyjgz6n6z18_0jt39l92nc40000gn/T/ipykernel_57516/268545802.py:5: SettingWithCopyWarning: \n",
      "A value is trying to be set on a copy of a slice from a DataFrame\n",
      "\n",
      "See the caveats in the documentation: https://pandas.pydata.org/pandas-docs/stable/user_guide/indexing.html#returning-a-view-versus-a-copy\n",
      "  df1[\"Screen Size\"][i] = float(size[1])\n"
     ]
    }
   ],
   "source": [
    "for i in range(df1.shape[0]):\n",
    "    x = df1[\"Screen Size\"][i].split(\" \")\n",
    "    y = x[2]\n",
    "    size = y.split(\"(\")\n",
    "    df1[\"Screen Size\"][i] = float(size[1])"
   ]
  },
  {
   "cell_type": "code",
   "execution_count": 94,
   "id": "14ebea6d",
   "metadata": {},
   "outputs": [
    {
     "data": {
      "text/plain": [
       "array([17.3, 15.6, 16.1, 14.0, 13.3, 13.4, 14.1, 16.6, 11.6, 16.0, 14.96,\n",
       "       14.22, 15.0, 13.5, 12.0, 14.2, 13.0, 15.3, 14.9, 14.5, 13.6],\n",
       "      dtype=object)"
      ]
     },
     "execution_count": 94,
     "metadata": {},
     "output_type": "execute_result"
    }
   ],
   "source": [
    "df1[\"Screen Size\"].unique()"
   ]
  },
  {
   "cell_type": "code",
   "execution_count": 95,
   "id": "a031a891",
   "metadata": {},
   "outputs": [
    {
     "data": {
      "text/plain": [
       "0      17.3\n",
       "1      15.6\n",
       "2      16.1\n",
       "3      15.6\n",
       "4      14.0\n",
       "       ... \n",
       "979    14.0\n",
       "980    13.3\n",
       "981    13.3\n",
       "982    14.0\n",
       "983    14.0\n",
       "Name: Screen Size, Length: 984, dtype: object"
      ]
     },
     "execution_count": 95,
     "metadata": {},
     "output_type": "execute_result"
    }
   ],
   "source": [
    "df1[\"Screen Size\"]"
   ]
  },
  {
   "cell_type": "code",
   "execution_count": 96,
   "id": "ff90ffea",
   "metadata": {},
   "outputs": [],
   "source": [
    "del df1[\"Face Recognition\"]\n"
   ]
  },
  {
   "cell_type": "code",
   "execution_count": 97,
   "id": "be73ad6b",
   "metadata": {},
   "outputs": [
    {
     "data": {
      "image/png": "[encoded data removed]",
      "text/plain": [
       "<Figure size 360x360 with 1 Axes>"
      ]
     },
     "metadata": {
      "needs_background": "light"
     },
     "output_type": "display_data"
    }
   ],
   "source": [
    "p_fs = np.array(df1[df1[\"Finger Print Sensor\"] == \"yes\"][\"Price\"])\n",
    "sns.displot(p_fs)\n",
    "plt.show()\n"
   ]
  },
  {
   "cell_type": "code",
   "execution_count": 98,
   "id": "5a7a41d9",
   "metadata": {},
   "outputs": [],
   "source": [
    "del df1[\"Finger Print Sensor\"]\n"
   ]
  },
  {
   "cell_type": "code",
   "execution_count": 99,
   "id": "c919e1fd",
   "metadata": {},
   "outputs": [],
   "source": [
    "df1[\"Weight\"] = df1[\"Weight\"].replace(\"nan\", \"0\")\n",
    "df1[\"Weight\"] = df1[\"Weight\"].replace(\"dual array microphone kg\", \"0\")\n",
    "\n",
    "def wt_func(s):\n",
    "    \n",
    "    if s != \"0\":\n",
    "        ss = s.split(\"$$\")\n",
    "        if len(ss) >= 2:\n",
    "            return float(ss[0])\n",
    "        \n",
    "        sr = s.split(\" \")\n",
    "        if len(sr) >= 2:\n",
    "            return float(sr[0])\n",
    "        \n",
    "    else:\n",
    "        return 0\n",
    "            \n",
    "        \n",
    "df1[\"Weight\"] = df1[\"Weight\"].apply(wt_func)\n"
   ]
  },
  {
   "cell_type": "code",
   "execution_count": 100,
   "id": "f0579c3b",
   "metadata": {},
   "outputs": [
    {
     "name": "stdout",
     "output_type": "stream",
     "text": [
      "[2 1 5 3 7 4]\n",
      "{2: 1.4946421471172964, 1: 2.0686486486486486, 5: 0.9746666666666668, 3: 1.34171875, 7: 0.8, 4: 1.6219999999999999}\n"
     ]
    }
   ],
   "source": [
    "df_wtna = df1[df1[\"Weight\"] == 0]\n",
    "print(df_wtna[\"Type\"].unique())\n",
    "\n",
    "na_wtna_arr = list(df_wtna[\"Type\"].unique())\n",
    "\n",
    "wt_dic = {}\n",
    "\n",
    "for i in range(len(na_wtna_arr)):\n",
    "    curr_type_wt = np.array(df1[df1[\"Type\"] == na_wtna_arr[i]][\"Weight\"])\n",
    "    curr_mean = curr_type_wt.mean()\n",
    "    \n",
    "    wt_dic[na_wtna_arr[i]] = curr_mean\n",
    "    \n",
    "print(wt_dic)\n"
   ]
  },
  {
   "cell_type": "code",
   "execution_count": 101,
   "id": "71ab72cb",
   "metadata": {},
   "outputs": [
    {
     "data": {
      "text/plain": [
       "{1: 'gaming laptop',\n",
       " 2: 'thin and light laptop',\n",
       " 3: '2 in 1 laptop',\n",
       " 4: 'notebook',\n",
       " 5: 'laptop',\n",
       " 6: '2 in 1 gaming laptop',\n",
       " 7: 'business laptop',\n",
       " 8: 'chromebook',\n",
       " 9: 'creator laptop'}"
      ]
     },
     "execution_count": 101,
     "metadata": {},
     "output_type": "execute_result"
    }
   ],
   "source": [
    "inv_type_dict"
   ]
  },
  {
   "cell_type": "code",
   "execution_count": 102,
   "id": "aabdfd58",
   "metadata": {},
   "outputs": [
    {
     "data": {
      "text/plain": [
       "Int64Index([  4,   6,  35,  65,  76,  78, 132, 135, 215, 229, 231, 266, 306,\n",
       "            437, 506, 516, 525, 565, 567, 570, 651, 752, 972],\n",
       "           dtype='int64')"
      ]
     },
     "execution_count": 102,
     "metadata": {},
     "output_type": "execute_result"
    }
   ],
   "source": [
    "index = df1[df1[\"Weight\"] == 0].index\n",
    "\n",
    "dff = df1[df1[\"Weight\"] == 0][\"Type\"] == 2\n",
    "\n",
    "indices = index[dff]\n",
    "indices\n"
   ]
  },
  {
   "cell_type": "code",
   "execution_count": 103,
   "id": "7e1c05f7",
   "metadata": {},
   "outputs": [
    {
     "name": "stderr",
     "output_type": "stream",
     "text": [
      "/var/folders/40/9gyjgz6n6z18_0jt39l92nc40000gn/T/ipykernel_57516/3065486179.py:9: SettingWithCopyWarning: \n",
      "A value is trying to be set on a copy of a slice from a DataFrame\n",
      "\n",
      "See the caveats in the documentation: https://pandas.pydata.org/pandas-docs/stable/user_guide/indexing.html#returning-a-view-versus-a-copy\n",
      "  df1[\"Weight\"].iloc[indices[i]] = wt_dic[key]\n"
     ]
    }
   ],
   "source": [
    "dwt = df1[df1[\"Weight\"] == 0]\n",
    "for key in wt_dic.keys():\n",
    "    index = df1[df1[\"Weight\"] == 0].index\n",
    "    dff = df1[df1[\"Weight\"] == 0][\"Type\"] == key\n",
    "    indices = index[dff]\n",
    "#     print(indices, \"\\n\")\n",
    "    \n",
    "    for i in range(len(list(indices))):\n",
    "        df1[\"Weight\"].iloc[indices[i]] = wt_dic[key]\n",
    "        \n",
    "#     df1.loc[indices][\"Weight\"] = df1.loc[indices][\"Weight\"].replace(0, wt_dic[key])"
   ]
  },
  {
   "cell_type": "code",
   "execution_count": 104,
   "id": "b3bd292d",
   "metadata": {},
   "outputs": [
    {
     "data": {
      "text/plain": [
       "(0, 21)"
      ]
     },
     "execution_count": 104,
     "metadata": {},
     "output_type": "execute_result"
    }
   ],
   "source": [
    "df1[df1[\"Weight\"] == 0].shape\n"
   ]
  },
  {
   "cell_type": "code",
   "execution_count": 105,
   "id": "63e305b3",
   "metadata": {},
   "outputs": [
    {
     "data": {
      "text/plain": [
       "{1: 'gaming laptop',\n",
       " 2: 'thin and light laptop',\n",
       " 3: '2 in 1 laptop',\n",
       " 4: 'notebook',\n",
       " 5: 'laptop',\n",
       " 6: '2 in 1 gaming laptop',\n",
       " 7: 'business laptop',\n",
       " 8: 'chromebook',\n",
       " 9: 'creator laptop'}"
      ]
     },
     "execution_count": 105,
     "metadata": {},
     "output_type": "execute_result"
    }
   ],
   "source": [
    "inv_type_dict"
   ]
  },
  {
   "cell_type": "code",
   "execution_count": 106,
   "id": "4935a1c5",
   "metadata": {},
   "outputs": [
    {
     "name": "stdout",
     "output_type": "stream",
     "text": [
      "294\n"
     ]
    },
    {
     "name": "stderr",
     "output_type": "stream",
     "text": [
      "/opt/anaconda3/lib/python3.9/site-packages/seaborn/distributions.py:2619: FutureWarning: `distplot` is a deprecated function and will be removed in a future version. Please adapt your code to use either `displot` (a figure-level function with similar flexibility) or `histplot` (an axes-level function for histograms).\n",
      "  warnings.warn(msg, FutureWarning)\n"
     ]
    },
    {
     "data": {
      "image/png": "[encoded data removed]",
      "text/plain": [
       "<Figure size 432x288 with 1 Axes>"
      ]
     },
     "metadata": {
      "needs_background": "light"
     },
     "output_type": "display_data"
    }
   ],
   "source": [
    "p_gen = np.array(df1[df1[\"Processor Generation\"] == \"nan\"][\"Price\"])\n",
    "print(df1[df1[\"Processor Generation\"] == \"nan\"].shape[0])\n",
    "sns.distplot(p_gen)\n",
    "plt.show()"
   ]
  },
  {
   "cell_type": "code",
   "execution_count": 107,
   "id": "97d723db",
   "metadata": {},
   "outputs": [],
   "source": [
    "# As there are a lot of NaN values, we delete this feature\n",
    "\n",
    "del df1[\"Processor Generation\"]"
   ]
  },
  {
   "cell_type": "code",
   "execution_count": 108,
   "id": "fd459254",
   "metadata": {},
   "outputs": [],
   "source": [
    "def bat_back_1(s):\n",
    "    return 0"
   ]
  },
  {
   "cell_type": "code",
   "execution_count": 109,
   "id": "c44fa3a3",
   "metadata": {},
   "outputs": [],
   "source": [
    "df1[\"battery_back\"] = df1[\"Battery Backup\"].apply(bat_back_1)"
   ]
  },
  {
   "cell_type": "code",
   "execution_count": 110,
   "id": "559803b5",
   "metadata": {},
   "outputs": [
    {
     "data": {
      "text/plain": [
       "{1: 'gaming laptop',\n",
       " 2: 'thin and light laptop',\n",
       " 3: '2 in 1 laptop',\n",
       " 4: 'notebook',\n",
       " 5: 'laptop',\n",
       " 6: '2 in 1 gaming laptop',\n",
       " 7: 'business laptop',\n",
       " 8: 'chromebook',\n",
       " 9: 'creator laptop'}"
      ]
     },
     "execution_count": 110,
     "metadata": {},
     "output_type": "execute_result"
    }
   ],
   "source": [
    "inv_type_dict"
   ]
  },
  {
   "cell_type": "code",
   "execution_count": 111,
   "id": "a32bbd5c",
   "metadata": {},
   "outputs": [
    {
     "name": "stdout",
     "output_type": "stream",
     "text": [
      "***Average battery lifes***\n",
      "\n",
      "gaming laptop  ===>  2\n",
      "thin and light laptop  ===>  4.5\n",
      "2 in 1 laptop  ===>  5\n",
      "notebook  ===>  4.5\n",
      "laptop  ===>  5\n",
      "2 in 1 gaming laptop  ===>  4\n",
      "business laptop  ===>  6\n",
      "chromebook  ===>  8\n",
      "creator laptop  ===>  4\n"
     ]
    }
   ],
   "source": [
    "battery_dict = {1:2, 2:4.5, 3:5, 4:4.5 , 5:5, 6:4, 7:6, 8:8 , 9:4}\n",
    "battery_dict\n",
    "print(\"***Average battery lifes***\\n\")\n",
    "for k1 in inv_type_dict.values():\n",
    "    print(k1, \" ===> \", battery_dict[type_dict[k1]])"
   ]
  },
  {
   "cell_type": "code",
   "execution_count": 112,
   "id": "ea13dfe7",
   "metadata": {},
   "outputs": [
    {
     "data": {
      "text/plain": [
       "(984, 21)"
      ]
     },
     "execution_count": 112,
     "metadata": {},
     "output_type": "execute_result"
    }
   ],
   "source": [
    "df1[df1[\"battery_back\"] == 0].shape"
   ]
  },
  {
   "cell_type": "code",
   "execution_count": 113,
   "id": "62b11e48",
   "metadata": {},
   "outputs": [
    {
     "name": "stderr",
     "output_type": "stream",
     "text": [
      "/var/folders/40/9gyjgz6n6z18_0jt39l92nc40000gn/T/ipykernel_57516/2653845043.py:10: SettingWithCopyWarning: \n",
      "A value is trying to be set on a copy of a slice from a DataFrame\n",
      "\n",
      "See the caveats in the documentation: https://pandas.pydata.org/pandas-docs/stable/user_guide/indexing.html#returning-a-view-versus-a-copy\n",
      "  df1[\"battery_back\"].iloc[indices[i]] = battery_dict[key]\n"
     ]
    }
   ],
   "source": [
    "dwt = df1[df1[\"battery_back\"] == 0]\n",
    "\n",
    "for key in inv_type_dict.keys():\n",
    "    index = df1[df1[\"battery_back\"] == 0].index\n",
    "    dff = df1[df1[\"battery_back\"] == 0][\"Type\"] == key\n",
    "    indices = index[dff]\n",
    "#     print(indices, \"\\n\")\n",
    "    \n",
    "    for i in range(len(list(indices))):\n",
    "        df1[\"battery_back\"].iloc[indices[i]] = battery_dict[key]"
   ]
  },
  {
   "cell_type": "code",
   "execution_count": 114,
   "id": "0eff06ec",
   "metadata": {},
   "outputs": [
    {
     "data": {
      "text/plain": [
       "(0, 21)"
      ]
     },
     "execution_count": 114,
     "metadata": {},
     "output_type": "execute_result"
    }
   ],
   "source": [
    "df1[df1[\"battery_back\"] == 0].shape"
   ]
  },
  {
   "cell_type": "code",
   "execution_count": 115,
   "id": "53792f74",
   "metadata": {},
   "outputs": [
    {
     "data": {
      "image/png": "[encoded data removed]",
      "text/plain": [
       "<Figure size 360x360 with 1 Axes>"
      ]
     },
     "metadata": {
      "needs_background": "light"
     },
     "output_type": "display_data"
    }
   ],
   "source": [
    "sns.displot(df1[\"battery_back\"])\n",
    "plt.show()"
   ]
  },
  {
   "cell_type": "code",
   "execution_count": 116,
   "id": "fbc0ab50",
   "metadata": {},
   "outputs": [],
   "source": [
    "del df1[\"Battery Backup\"]"
   ]
  },
  {
   "cell_type": "code",
   "execution_count": 117,
   "id": "02205713",
   "metadata": {},
   "outputs": [],
   "source": [
    "# Processed GPU names\n",
    "\n",
    "new_gpu = ['nvidia geforce rtx 3070 ti', 'nvidia geforce rtx 3050',\n",
    "       'integrated', 'iris xe',\n",
    "       'intel hd',\n",
    "       'amd radeon',\n",
    "       'nvidia geforce gtx 1650', 'intel uhd',\n",
    "       'amd radeon', 'intel iris xe',\n",
    "       'amd radeon',\n",
    "       'nvidia geforce rtx 3050', 'amd radeon',\n",
    "       'nvidia geforce rtx 3070', 'intel uhd',\n",
    "       'nvidia geforce rtx 3050 ti', 'amd radeon vega 8',\n",
    "       'nvidia geforce rtx 3050', 'nvidia geforce rtx 3060',\n",
    "       'intel hd',\n",
    "       'nvidia geforce gtx 1650', 'intel uhd',\n",
    "       'nvidia geforce rtx 3060', 'nvidia geforce mx 450',\n",
    "       'amd radeon', 'nvidia geforce rtx 3050',\n",
    "       'intel uhd 600', 'intel uhd',\n",
    "       'amd radeon', 'nvidia geforce rtx 3050', 'amd radeon',\n",
    "       'nvidia geforce rtx 3050 ti', 'amd radeon rx vega 10',\n",
    "       'nvidia geforce rtx 3050',\n",
    "       'intel uhd',\n",
    "       'amd radeon rx vega 10', 'intel hd',\n",
    "       'qualcomm adreno 618 gpu', 'amd radeon vega ',\n",
    "       'amd radeon rx 6600m', 'integrated',\n",
    "       'nvidia geforce gtx 1650',\n",
    "       'nvidia geforce rtx 3050',\n",
    "       'nvidia geforce rtx 3060',\n",
    "       'nvidia geforce rtx 3050',\n",
    "       'qualcomm adreno', 'integrated',\n",
    "       'nvidia geforce rtx 3050ti',\n",
    "       'intel uhd 600',\n",
    "       'nvidia geforce rtx 3080 ti', 'intel iris plus',\n",
    "       'amd radeon', 'nvidia geforce gtx',\n",
    "       'intel uhd 605', 'nvidia geforce rtx',\n",
    "       'intel uhd',\n",
    "       'intel uhd 600', 'amd radeon',\n",
    "       'intel iris xe',\n",
    "       'amd radeon', 'intel iris',\n",
    "       'amd radeon', 'intel uhd',\n",
    "       'nvidia geforce mx 350', 'amd radeon',\n",
    "       'intel iris xe', 'nvidia geforce mx 330',\n",
    "       'intel hd', 'amd radeon rx 6700m', 'integrated',\n",
    "       'nvidia geforce gtx 1650', 'nan',\n",
    "       'nvidia geforce gtx 1650',\n",
    "       'amd radeon',\n",
    "       'nvidia geforce rtx 3060', 'nvidia geforce',\n",
    "       'nvidia geforce gtx 1650 ti',\n",
    "       'amd radeon', 'nvidia geforce rtx 3050',\n",
    "       'intel iris xe', 'amd radeon vega 8',\n",
    "       'intel uhd',\n",
    "       'nvidia geforce gtx 1650',\n",
    "       'amd radeon', 'nvidia geforce rtx 3050ti',\n",
    "       'nvidia geforce mx 330',\n",
    "       'intel uhd',\n",
    "       'nvidia geforce gtx 1650', 'nvidia geforce mx 330',\n",
    "       'nvidia geforce mx 350', 'amd radeon vega',\n",
    "       'nvidia geforce gtx', 'intel iris xe',\n",
    "       'intel uhd',\n",
    "       'intel hd 520', 'intel uhd',\n",
    "       'amd radeon rx6600m', 'intel iris xe',\n",
    "       'nvidia geforce rtx', 'intel iris xe',\n",
    "       'amd radeon rx 6800m', 'nvidia geforce mx 330',\n",
    "       'amd radeon 5500u', 'amd radeon 5500m', 'nvidia geforce mx 130',\n",
    "       'amd radeon r4', 'integrated', 'intel uhd 600',\n",
    "       'intel hd 500', 'amd radeon r5',\n",
    "       'amd radeon r4 (stoney ridge)', 'intel iris xe',\n",
    "       'nvidia geforce gtx 1650 ti', 'nvidia geforce gtx 1650 max q',\n",
    "       'nvidia geforce mx 250',\n",
    "       'nvidia geforce gtx 1650 ti', 'nvidia geforce gtx 1650 ti',\n",
    "       'nvidia geforce gtx 1650 ti', 'nvidia geforce gtx 1660 ti',\n",
    "       'nvidia geforce rtx 2060', 'intel uhd 620',\n",
    "       'intel hd 5500', 'integrated',\n",
    "       'nvidia geforce rtx 2080 super max-q', 'nvidia geforce',\n",
    "       'amd radeon', 'nvidia geforce mx 250',\n",
    "       'amd radeon vega 6', 'intel iris xe max',\n",
    "       'nvidia geforce gtx 1650 ti max-q', 'amd radeon 520',\n",
    "       'nvidia geforce rtx 2070 max-q',\n",
    "       'nvidia geforce gtx mx 330', 'nvidia geforce mx 230',\n",
    "       'intel uhd', 'intel hd 620',\n",
    "       'nvidia quadro p520', 'nvidia quadro t2000',\n",
    "       'intel uhd 620', 'nvidia geforce mx 110',\n",
    "       'nvidia geforce gtx']"
   ]
  },
  {
   "cell_type": "code",
   "execution_count": 118,
   "id": "967098c8",
   "metadata": {},
   "outputs": [
    {
     "data": {
      "text/plain": [
       "['nvidia geforce rtx 3070 ti',\n",
       " 'nvidia geforce rtx 3050',\n",
       " 'intel integrated intel',\n",
       " 'intel integrated iris xe graphics',\n",
       " 'intel integrated intel hd',\n",
       " 'amd radeon integrated amd radeon\\x99 graphics',\n",
       " 'nvidia geforce gtx 1650',\n",
       " 'intel integrated uhd graphics',\n",
       " 'amd radeon radeon graphics',\n",
       " 'intel integrated iris xe',\n",
       " 'amd radeon integrated amd radeon graphics',\n",
       " 'nvidia geforce rtx3050- 4gb',\n",
       " 'amd radeon amd redeon',\n",
       " 'nvidia geforce rtx 3070',\n",
       " 'intel integrated intel® uhd graphics',\n",
       " 'nvidia geforce rtx 3050 ti',\n",
       " 'amd radeon vega 8',\n",
       " 'nvidia geforce rtx 3050 rts',\n",
       " 'nvidia geforce rtx rtx3060-6gb',\n",
       " 'intel integrated intel hd graphics',\n",
       " 'nvidia geforce gtx gtx 1650 4gb graphics',\n",
       " 'intel integrated uhd',\n",
       " 'nvidia geforce rtx 3060',\n",
       " 'nvidia geforce mx450',\n",
       " 'amd radeon amd',\n",
       " 'nvidia geforce rtx rtx3050-4g',\n",
       " 'intel integrated uhd graphics 600',\n",
       " 'intel integrated intel uhd',\n",
       " 'amd radeon',\n",
       " 'amd radeon rtx3050- 4gb',\n",
       " 'amd radeon intgrated',\n",
       " 'nvidia geforce rtx 3050ti',\n",
       " 'amd radeon rx vega 10',\n",
       " 'nvidia geforce rtx rtx 3050',\n",
       " 'intel integrated intel uhd graphics',\n",
       " 'amd radeon radeon rx vega 10 graphics',\n",
       " 'intel integrated hd',\n",
       " 'qualcomm adreno adreno 618 gpu',\n",
       " 'amd radeon vega graphics',\n",
       " 'amd radeon rx 6600m',\n",
       " 'intel integrated',\n",
       " 'nvidia geforce gtx gtx 1650',\n",
       " 'nvidia geforce rtx geforce rtx 3050',\n",
       " 'nvidia geforce rtx rtx 3060',\n",
       " 'nvidia geforce rtx nvidia geforce rtx 3050',\n",
       " 'qualcomm adreno adreno',\n",
       " 'na integrated_graphics',\n",
       " 'nvidia geforce rtx rtx 3050ti',\n",
       " 'intel integrated intel® uhd graphics 600',\n",
       " 'nvidia geforce rtx 3080 ti',\n",
       " 'intel integrated iris plus',\n",
       " 'amd radeon amd radeon graphics',\n",
       " 'nvidia geforce gtx nvidia',\n",
       " 'intel integrated uhd 605',\n",
       " 'nvidia geforce rtx nvidia',\n",
       " 'intel integrated intel uhd graphics for 11th gen intel processors',\n",
       " 'intel integrated intel uhd graphics 600',\n",
       " 'amd radeon radeon',\n",
       " 'intel integrated integrated intel iris xe graphics',\n",
       " 'amd radeon amd radeon\\x99',\n",
       " 'intel integrated intel iris',\n",
       " 'intel integrated amd radeon graphics',\n",
       " 'na uhd graphic',\n",
       " 'nvidia geforce mx350',\n",
       " 'amd radeon amd radeon\\x99 graphics',\n",
       " 'intel integrated intel iris xe graphics',\n",
       " 'nvidia geforce mx330',\n",
       " 'na intel hd',\n",
       " 'amd radeon rx 6700m',\n",
       " 'intel integrated ddr4',\n",
       " 'nvidia geforce gtx nvidia geforce gtx 1650 4gb gddr6',\n",
       " 'nan',\n",
       " 'nvidia geforce nvidia geforce gtx 1650 4gb gddr6',\n",
       " 'intel integrated integrated amd radeon graphics',\n",
       " 'nvidia geforce rtx rtx 3060 6gb graphics',\n",
       " 'nvidia geforce ddr5',\n",
       " 'nvidia geforce gtx nvidia(r) geforce gtx(r) 1650 ti 4gb gddr6',\n",
       " 'amd radeon amd radeon',\n",
       " 'nvidia geforce gtx 3050',\n",
       " 'na intel iris xe graphics',\n",
       " 'amd radeon wega 8',\n",
       " 'intel integrated intel intergrated uhd',\n",
       " 'nvidia geforce gtx nvidia® geforce® gtx 1650 (4gb gddr6)',\n",
       " 'amd radeon integrated',\n",
       " 'nvidia geforce rtx3050ti',\n",
       " 'nvidia geforce gtx 2 gb mx330',\n",
       " 'intel integrated intel integrated uhd',\n",
       " 'nvidia geforce gtx gtx1650- 4gb',\n",
       " 'nvidia geforce mx 330',\n",
       " 'intel integrated mx350',\n",
       " 'amd radeon vega',\n",
       " 'nvidia geforce gtx gtx',\n",
       " 'intel integrated irix xe',\n",
       " 'intel integrated integrated intel® uhd graphics',\n",
       " 'intel integrated hd 520',\n",
       " 'intel integrated intel uhd graphic',\n",
       " 'amd radeon rx6600m',\n",
       " 'intel integrated intel iris x? graphics',\n",
       " 'nvidia geforce rtx rtx',\n",
       " 'intel integrated intel iris xe',\n",
       " 'amd radeon rx 6800m',\n",
       " 'nvidia geforce nvidia mx330-2gb',\n",
       " 'amd radeon 5500u',\n",
       " 'amd radeon rx5500m',\n",
       " 'nvidia geforce mx130',\n",
       " 'amd radeon r4',\n",
       " 'mediatek integrated',\n",
       " 'intel integrated uhd 600',\n",
       " 'intel integrated hd 500',\n",
       " 'amd radeon r5',\n",
       " 'amd radeon r4 (stoney ridge)',\n",
       " 'na intel® iris® xe graphics',\n",
       " 'nvidia geforce gtx 1650ti',\n",
       " 'nvidia geforce gtx 1650 max q',\n",
       " 'nvidia geforce gtx nvidia(r) geforce(r) mx250 with 2gb gddr5',\n",
       " 'nvidia geforce 1650ti',\n",
       " 'nvidia geforce gtx 1650 ti',\n",
       " 'nvidia geforce gtx gtx 1650ti',\n",
       " 'nvidia geforce gtx 1660 ti',\n",
       " 'nvidia geforce rtx 2060',\n",
       " 'intel integrated uhd 620',\n",
       " 'amd radeon intel hd graphics 5500',\n",
       " 'intel integrated core i5',\n",
       " 'nvidia geforce rtx 2080 super max-q',\n",
       " 'nvidia geforce nvidia',\n",
       " 'amd radeon amd readon',\n",
       " 'nvidia geforce mx250',\n",
       " 'amd radeon vega 6',\n",
       " 'intel integrated iris xe max',\n",
       " 'nvidia geforce gtx 1650 ti max-q',\n",
       " 'amd radeon amd radeon 520',\n",
       " 'nvidia geforce rtx 2070 with max-q design',\n",
       " 'nvidia geforce gtx mx330',\n",
       " 'nvidia geforce mx230',\n",
       " 'intel integrated integrated intel uhd',\n",
       " 'intel integrated hd 620',\n",
       " 'nvidia quadro p520',\n",
       " 'nvidia quadro t2000',\n",
       " 'intel integrated intel uhd graphics 620',\n",
       " 'nvidia geforce mx110',\n",
       " 'nvidia geforce gtx']"
      ]
     },
     "execution_count": 118,
     "metadata": {},
     "output_type": "execute_result"
    }
   ],
   "source": [
    "gpu_arr = list(df1[\"Graphic Processor\"].unique())\n",
    "gpu_arr"
   ]
  },
  {
   "cell_type": "code",
   "execution_count": 119,
   "id": "87da19c7",
   "metadata": {},
   "outputs": [
    {
     "data": {
      "text/plain": [
       "62"
      ]
     },
     "execution_count": 119,
     "metadata": {},
     "output_type": "execute_result"
    }
   ],
   "source": [
    "len(set(new_gpu))"
   ]
  },
  {
   "cell_type": "code",
   "execution_count": 120,
   "id": "02c07696",
   "metadata": {},
   "outputs": [],
   "source": [
    "gpu_dict = {}\n",
    "\n",
    "for i in range(len(gpu_arr)):\n",
    "    if gpu_arr[i] == \"nan\":\n",
    "        gpu_dict[gpu_arr[i]] = \"nan\"\n",
    "        \n",
    "    else:\n",
    "        gpu_dict[gpu_arr[i]] = new_gpu[i]\n",
    "    \n",
    "def gpu_func(s):\n",
    "    return gpu_dict[s]\n"
   ]
  },
  {
   "cell_type": "code",
   "execution_count": 121,
   "id": "16d3642e",
   "metadata": {},
   "outputs": [],
   "source": [
    "inv_gpu_dict = {v: k for k, v in gpu_dict.items()}"
   ]
  },
  {
   "cell_type": "code",
   "execution_count": 122,
   "id": "0c995ba2",
   "metadata": {},
   "outputs": [],
   "source": [
    "df1[\"gpu_prcessor\"] = df1[\"Graphic Processor\"].apply(gpu_func)"
   ]
  },
  {
   "cell_type": "code",
   "execution_count": 123,
   "id": "5a214186",
   "metadata": {},
   "outputs": [
    {
     "data": {
      "text/plain": [
       "{1: 'asus',\n",
       " 2: 'hp',\n",
       " 3: 'lenovo',\n",
       " 4: 'dell',\n",
       " 5: 'msi',\n",
       " 6: 'realme',\n",
       " 7: 'avita',\n",
       " 8: 'acer',\n",
       " 9: 'samsung',\n",
       " 10: 'infinix',\n",
       " 11: 'lg',\n",
       " 12: 'apple',\n",
       " 13: 'nokia',\n",
       " 14: 'redmibook',\n",
       " 15: 'mi',\n",
       " 16: 'vaio'}"
      ]
     },
     "execution_count": 123,
     "metadata": {},
     "output_type": "execute_result"
    }
   ],
   "source": [
    "# company_dict\n",
    "inv_comp_dict  = {v: k for k, v in company_dict.items()}\n",
    "inv_comp_dict"
   ]
  },
  {
   "cell_type": "code",
   "execution_count": 124,
   "id": "53bdb33c",
   "metadata": {},
   "outputs": [
    {
     "data": {
      "text/plain": [
       "Int64Index([310, 321, 335, 423, 507, 511, 549, 710, 724, 725, 726, 906, 912,\n",
       "            948, 949, 951, 954, 955, 956, 957],\n",
       "           dtype='int64')"
      ]
     },
     "execution_count": 124,
     "metadata": {},
     "output_type": "execute_result"
    }
   ],
   "source": [
    "index1 = df1[df1[\"gpu_prcessor\"] == \"nan\"].index\n",
    "index1"
   ]
  },
  {
   "cell_type": "code",
   "execution_count": 125,
   "id": "62011b10",
   "metadata": {},
   "outputs": [
    {
     "data": {
      "text/plain": [
       "{'nvidia': 1, 'none': 2, 'amd': 3, 'qualcomm': 4}"
      ]
     },
     "execution_count": 125,
     "metadata": {},
     "output_type": "execute_result"
    }
   ],
   "source": [
    "gpu_brand_dict"
   ]
  },
  {
   "cell_type": "code",
   "execution_count": 126,
   "id": "14e0061c",
   "metadata": {},
   "outputs": [
    {
     "data": {
      "text/plain": [
       "{'intel': 1, 'amd': 2, 'qualcomm': 3, 'apple': 4, 'mediatek': 5}"
      ]
     },
     "execution_count": 126,
     "metadata": {},
     "output_type": "execute_result"
    }
   ],
   "source": [
    "processor_brand_dict"
   ]
  },
  {
   "cell_type": "code",
   "execution_count": 127,
   "id": "cba2d17c",
   "metadata": {},
   "outputs": [],
   "source": [
    "# from pandas import index\n",
    "\n",
    "def cleaned_gpu():\n",
    "    \n",
    "    #CASE1\n",
    "    index1 = df1[df1[\"gpu_prcessor\"] == \"nan\"].index\n",
    "    for i in range(len(list(index1))):\n",
    "        if df1[\"Processor Brand\"].iloc[index1[i]] == 1:\n",
    "            df1[\"gpu_prcessor\"].iloc[index1[i]] = \"intel hd\"\n",
    "            \n",
    "        if df1[\"Processor Brand\"].iloc[index1[i]] == 2:\n",
    "            df1[\"gpu_prcessor\"].iloc[index1[i]] = \"amd radeon\"\n",
    "            \n",
    "        if df1[\"Processor Brand\"].iloc[index1[i]] == 4:\n",
    "            df1[\"gpu_prcessor\"].iloc[index1[i]] = \"m1\"\n",
    "            \n",
    "        if df1[\"Processor Brand\"].iloc[index1[i]] == 5:\n",
    "            df1[\"gpu_prcessor\"].iloc[index1[i]] = \"mediatek\"\n",
    "\n",
    "                \n",
    "    # CASE 2\n",
    "    index2 = df1[df1[\"gpu_prcessor\"] == \"integrated\"].index\n",
    "    for i in range(len(list(index2))):\n",
    "        if df1[\"Processor Brand\"].iloc[index2[i]] == 1:\n",
    "            df1[\"gpu_prcessor\"].iloc[index2[i]] = \"intel hd\"\n",
    "            \n",
    "        if df1[\"Processor Brand\"].iloc[index2[i]] == 2:\n",
    "            df1[\"gpu_prcessor\"].iloc[index2[i]] = \"amd radeon\"\n",
    "            \n",
    "        if df1[\"Processor Brand\"].iloc[index2[i]] == 4:\n",
    "            df1[\"gpu_prcessor\"].iloc[index2[i]] = \"m1\"\n",
    "            \n",
    "        if df1[\"Processor Brand\"].iloc[index2[i]] == 5:\n",
    "            df1[\"gpu_prcessor\"].iloc[index2[i]] = \"mediatek\""
   ]
  },
  {
   "cell_type": "code",
   "execution_count": 128,
   "id": "992c9cef",
   "metadata": {},
   "outputs": [
    {
     "name": "stderr",
     "output_type": "stream",
     "text": [
      "/var/folders/40/9gyjgz6n6z18_0jt39l92nc40000gn/T/ipykernel_57516/3539320464.py:9: SettingWithCopyWarning: \n",
      "A value is trying to be set on a copy of a slice from a DataFrame\n",
      "\n",
      "See the caveats in the documentation: https://pandas.pydata.org/pandas-docs/stable/user_guide/indexing.html#returning-a-view-versus-a-copy\n",
      "  df1[\"gpu_prcessor\"].iloc[index1[i]] = \"intel hd\"\n",
      "/var/folders/40/9gyjgz6n6z18_0jt39l92nc40000gn/T/ipykernel_57516/3539320464.py:15: SettingWithCopyWarning: \n",
      "A value is trying to be set on a copy of a slice from a DataFrame\n",
      "\n",
      "See the caveats in the documentation: https://pandas.pydata.org/pandas-docs/stable/user_guide/indexing.html#returning-a-view-versus-a-copy\n",
      "  df1[\"gpu_prcessor\"].iloc[index1[i]] = \"m1\"\n",
      "/var/folders/40/9gyjgz6n6z18_0jt39l92nc40000gn/T/ipykernel_57516/3539320464.py:25: SettingWithCopyWarning: \n",
      "A value is trying to be set on a copy of a slice from a DataFrame\n",
      "\n",
      "See the caveats in the documentation: https://pandas.pydata.org/pandas-docs/stable/user_guide/indexing.html#returning-a-view-versus-a-copy\n",
      "  df1[\"gpu_prcessor\"].iloc[index2[i]] = \"intel hd\"\n",
      "/var/folders/40/9gyjgz6n6z18_0jt39l92nc40000gn/T/ipykernel_57516/3539320464.py:28: SettingWithCopyWarning: \n",
      "A value is trying to be set on a copy of a slice from a DataFrame\n",
      "\n",
      "See the caveats in the documentation: https://pandas.pydata.org/pandas-docs/stable/user_guide/indexing.html#returning-a-view-versus-a-copy\n",
      "  df1[\"gpu_prcessor\"].iloc[index2[i]] = \"amd radeon\"\n",
      "/var/folders/40/9gyjgz6n6z18_0jt39l92nc40000gn/T/ipykernel_57516/3539320464.py:34: SettingWithCopyWarning: \n",
      "A value is trying to be set on a copy of a slice from a DataFrame\n",
      "\n",
      "See the caveats in the documentation: https://pandas.pydata.org/pandas-docs/stable/user_guide/indexing.html#returning-a-view-versus-a-copy\n",
      "  df1[\"gpu_prcessor\"].iloc[index2[i]] = \"mediatek\"\n"
     ]
    }
   ],
   "source": [
    "cleaned_gpu()"
   ]
  },
  {
   "cell_type": "code",
   "execution_count": 129,
   "id": "605825b6",
   "metadata": {
    "scrolled": true
   },
   "outputs": [
    {
     "data": {
      "text/plain": [
       "(array(['nvidia geforce rtx 3070 ti', 'nvidia geforce rtx 3050',\n",
       "        'intel hd', 'iris xe', 'amd radeon', 'nvidia geforce gtx 1650',\n",
       "        'intel uhd', 'intel iris xe', 'nvidia geforce rtx 3070',\n",
       "        'nvidia geforce rtx 3050 ti', 'amd radeon vega 8',\n",
       "        'nvidia geforce rtx 3060', 'nvidia geforce mx 450',\n",
       "        'intel uhd 600', 'amd radeon rx vega 10',\n",
       "        'qualcomm adreno 618 gpu', 'amd radeon vega ',\n",
       "        'amd radeon rx 6600m', 'qualcomm adreno',\n",
       "        'nvidia geforce rtx 3050ti', 'nvidia geforce rtx 3080 ti',\n",
       "        'intel iris plus', 'nvidia geforce gtx', 'intel uhd 605',\n",
       "        'nvidia geforce rtx', 'intel iris', 'nvidia geforce mx 350',\n",
       "        'nvidia geforce mx 330', 'amd radeon rx 6700m', 'nvidia geforce',\n",
       "        'nvidia geforce gtx 1650 ti', 'm1', 'amd radeon vega',\n",
       "        'intel hd 520', 'amd radeon rx6600m', 'amd radeon rx 6800m',\n",
       "        'amd radeon 5500u', 'amd radeon 5500m', 'nvidia geforce mx 130',\n",
       "        'amd radeon r4', 'mediatek', 'intel hd 500', 'amd radeon r5',\n",
       "        'amd radeon r4 (stoney ridge)', 'nvidia geforce gtx 1650 max q',\n",
       "        'nvidia geforce mx 250', 'nvidia geforce gtx 1660 ti',\n",
       "        'nvidia geforce rtx 2060', 'intel uhd 620', 'intel hd 5500',\n",
       "        'nvidia geforce rtx 2080 super max-q', 'amd radeon vega 6',\n",
       "        'intel iris xe max', 'nvidia geforce gtx 1650 ti max-q',\n",
       "        'amd radeon 520', 'nvidia geforce rtx 2070 max-q',\n",
       "        'nvidia geforce gtx mx 330', 'nvidia geforce mx 230',\n",
       "        'intel hd 620', 'nvidia quadro p520', 'nvidia quadro t2000',\n",
       "        'nvidia geforce mx 110'], dtype=object),\n",
       " (62,))"
      ]
     },
     "execution_count": 129,
     "metadata": {},
     "output_type": "execute_result"
    }
   ],
   "source": [
    "df1[\"gpu_prcessor\"].unique(), df1[\"gpu_prcessor\"].unique().shape"
   ]
  },
  {
   "cell_type": "code",
   "execution_count": 130,
   "id": "d866a0df",
   "metadata": {},
   "outputs": [],
   "source": [
    "gpu_dict = encode_to_int(list(df1[\"gpu_prcessor\"].unique())) \n",
    "\n",
    "def func11(s):\n",
    "    return gpu_dict[s]\n",
    "\n",
    "df1[\"gpu_processor\"] = df1[\"gpu_prcessor\"].apply(func11)"
   ]
  },
  {
   "cell_type": "code",
   "execution_count": 131,
   "id": "ecba591d",
   "metadata": {},
   "outputs": [
    {
     "data": {
      "text/plain": [
       "62"
      ]
     },
     "execution_count": 131,
     "metadata": {},
     "output_type": "execute_result"
    }
   ],
   "source": [
    "len(gpu_dict)"
   ]
  },
  {
   "cell_type": "code",
   "execution_count": 132,
   "id": "7b38bdc6",
   "metadata": {},
   "outputs": [],
   "source": [
    "del df1[\"gpu_prcessor\"]"
   ]
  },
  {
   "cell_type": "code",
   "execution_count": 133,
   "id": "3cf9c866",
   "metadata": {},
   "outputs": [],
   "source": [
    "del df1[\"Refresh Rate\"]"
   ]
  },
  {
   "cell_type": "code",
   "execution_count": 134,
   "id": "51cf5df3",
   "metadata": {},
   "outputs": [],
   "source": [
    "del df1[\"name\"]"
   ]
  },
  {
   "cell_type": "code",
   "execution_count": 135,
   "id": "a5cb8629",
   "metadata": {},
   "outputs": [],
   "source": [
    "del df1[\"Graphic Processor\"]"
   ]
  },
  {
   "cell_type": "markdown",
   "id": "51f511e5",
   "metadata": {},
   "source": [
    "# Data visualization\n"
   ]
  },
  {
   "cell_type": "code",
   "execution_count": 136,
   "id": "5c91fe5c",
   "metadata": {},
   "outputs": [],
   "source": [
    "df_visualize = df1.copy()"
   ]
  },
  {
   "cell_type": "code",
   "execution_count": 137,
   "id": "e0428f8e",
   "metadata": {},
   "outputs": [
    {
     "data": {
      "text/plain": [
       "pandas.core.frame.DataFrame"
      ]
     },
     "execution_count": 137,
     "metadata": {},
     "output_type": "execute_result"
    }
   ],
   "source": [
    "from pandasql import sqldf\n",
    "q = \"SELECT Type FROM df_visualize LIMIT 3\"\n",
    "type(sqldf(q))"
   ]
  },
  {
   "cell_type": "code",
   "execution_count": 138,
   "id": "0e85f4af",
   "metadata": {},
   "outputs": [
    {
     "data": {
      "text/plain": [
       "Price                                True\n",
       "Type                                 True\n",
       "Dedicated Graphic Memory Capacity    True\n",
       "Processor Brand                      True\n",
       "Processor Name                       True\n",
       "SSD                                  True\n",
       "RAM                                  True\n",
       "Expandable Memory                    True\n",
       "Operating System                     True\n",
       "Touchscreen                          True\n",
       "Screen Size                          True\n",
       "Weight                               True\n",
       "max_res                              True\n",
       "gpu_brand                            True\n",
       "company                              True\n",
       "Storage                              True\n",
       "battery_back                         True\n",
       "gpu_processor                        True\n",
       "dtype: bool"
      ]
     },
     "execution_count": 138,
     "metadata": {},
     "output_type": "execute_result"
    }
   ],
   "source": [
    "from pandasql import sqldf\n",
    "\n",
    "(globals()['df_visualize'] == df_visualize).all()"
   ]
  },
  {
   "cell_type": "code",
   "execution_count": 139,
   "id": "87de3c05",
   "metadata": {},
   "outputs": [],
   "source": [
    "inv_type_dict = {v: k for k, v in type_dict.items()}\n",
    "inv_company_dict = {v: k for k, v in company_dict.items()}\n",
    "inv_gpu_brand_dict = {v: k for k, v in gpu_brand_dict.items()}\n",
    "inv_processor_brand_dict = {v: k for k, v in processor_brand_dict.items()}\n",
    "inv_processor_name_dict = {v: k for k, v in processor_name_dict.items()}\n",
    "inv_os_dict = {v: k for k, v in os_dict.items()}\n",
    "inv_gpu_dict = {v: k for k, v in gpu_dict.items()}"
   ]
  },
  {
   "cell_type": "code",
   "execution_count": 140,
   "id": "54575af8",
   "metadata": {},
   "outputs": [],
   "source": [
    "def funcc1(s):\n",
    "    return inv_type_dict[s]\n",
    "df_visualize[\"Type\"] = df_visualize[\"Type\"].apply(funcc1)"
   ]
  },
  {
   "cell_type": "code",
   "execution_count": 141,
   "id": "6ccfdd2a",
   "metadata": {},
   "outputs": [],
   "source": [
    "def funcc2(s):\n",
    "    return inv_company_dict[s]\n",
    "df_visualize[\"company\"] = df_visualize[\"company\"].apply(funcc2)\n",
    "\n",
    "def funcc3(s):\n",
    "    return inv_gpu_brand_dict[s]\n",
    "df_visualize[\"gpu_brand\"] = df_visualize[\"gpu_brand\"].apply(funcc3)\n",
    "\n",
    "def funcc4(s):\n",
    "    return inv_processor_brand_dict[s]\n",
    "df_visualize[\"Processor Brand\"] = df_visualize[\"Processor Brand\"].apply(funcc4)\n",
    "\n",
    "def funcc5(s):\n",
    "    return inv_processor_name_dict[s]\n",
    "df_visualize[\"Processor Name\"] = df_visualize[\"Processor Name\"].apply(funcc5)\n",
    "\n",
    "def funcc6(s):\n",
    "    return inv_os_dict[s]\n",
    "df_visualize[\"Operating System\"] = df_visualize[\"Operating System\"].apply(funcc6)\n",
    "\n",
    "def funcc7(s):\n",
    "    return inv_gpu_dict[s]\n",
    "df_visualize[\"gpu_processor\"] = df_visualize[\"gpu_processor\"].apply(funcc7)"
   ]
  },
  {
   "cell_type": "markdown",
   "id": "5e635931",
   "metadata": {},
   "source": [
    "# Companies availible in the market"
   ]
  },
  {
   "cell_type": "code",
   "execution_count": 142,
   "id": "0f3ffffe",
   "metadata": {},
   "outputs": [
    {
     "data": {
      "image/png": "[encoded data removed]",
      "text/plain": [
       "<Figure size 1080x360 with 1 Axes>"
      ]
     },
     "metadata": {
      "needs_background": "light"
     },
     "output_type": "display_data"
    }
   ],
   "source": [
    "fig = plt.figure(figsize = (15,5))\n",
    "sns.boxplot(x = df_visualize[\"company\"], y = df_visualize[\"Price\"])\n",
    "plt.title(\"Price variation of the comapanies\")\n",
    "plt.show()"
   ]
  },
  {
   "cell_type": "code",
   "execution_count": 143,
   "id": "4431e1de",
   "metadata": {},
   "outputs": [
    {
     "data": {
      "image/png": "[encoded data removed]",
      "text/plain": [
       "<Figure size 648x648 with 1 Axes>"
      ]
     },
     "metadata": {},
     "output_type": "display_data"
    }
   ],
   "source": [
    "comp_strength = {}\n",
    "\n",
    "for c in df1[\"company\"].unique():\n",
    "    comp_strength[inv_comp_dict[c]] = len(df1[df1[\"company\"] == c])\n",
    "\n",
    "\n",
    "fig = plt.figure(figsize=(9,9))\n",
    "colors = sns.color_palette('colorblind')[0:len(comp_strength)]\n",
    "plt.pie(list(comp_strength.values()) ,labels=comp_strength.keys(), shadow=True, autopct=\"%.1f%%\",radius=2.5, colors = colors)\n",
    "plt.show()"
   ]
  },
  {
   "cell_type": "code",
   "execution_count": 144,
   "id": "4d0c731a",
   "metadata": {},
   "outputs": [
    {
     "data": {
      "image/png": "[encoded data removed]",
      "text/plain": [
       "<Figure size 1080x360 with 1 Axes>"
      ]
     },
     "metadata": {
      "needs_background": "light"
     },
     "output_type": "display_data"
    }
   ],
   "source": [
    "fig = plt.figure(figsize = (15,5))\n",
    "sns.countplot(x = df_visualize[\"company\"])\n",
    "plt.title(\"No.of models by each company availible in the present market\")\n",
    "plt.show()"
   ]
  },
  {
   "cell_type": "code",
   "execution_count": 145,
   "id": "2200956e",
   "metadata": {},
   "outputs": [
    {
     "name": "stdout",
     "output_type": "stream",
     "text": [
      "  company  count\n",
      "0    asus    296\n",
      "1    dell    188\n",
      "2  lenovo    184\n",
      "3      hp    152\n",
      "4    acer     60\n"
     ]
    }
   ],
   "source": [
    "q = '''SELECT company, COUNT(*) AS count FROM df_visualize GROUP BY company ORDER BY count DESC LIMIT 5;\n",
    "    '''\n",
    "print(sqldf(q))"
   ]
  },
  {
   "cell_type": "markdown",
   "id": "2c694daa",
   "metadata": {},
   "source": [
    "# OS price variation"
   ]
  },
  {
   "cell_type": "code",
   "execution_count": 146,
   "id": "7353ca03",
   "metadata": {},
   "outputs": [
    {
     "data": {
      "image/png": "[encoded data removed]",
      "text/plain": [
       "<Figure size 1080x360 with 1 Axes>"
      ]
     },
     "metadata": {
      "needs_background": "light"
     },
     "output_type": "display_data"
    }
   ],
   "source": [
    "fig = plt.figure(figsize = (15,5))\n",
    "sns.boxplot(x = df_visualize[\"Operating System\"], y = df_visualize[\"Price\"])\n",
    "plt.show()"
   ]
  },
  {
   "cell_type": "code",
   "execution_count": 147,
   "id": "83ce274e",
   "metadata": {},
   "outputs": [
    {
     "data": {
      "image/png": "[encoded data removed]",
      "text/plain": [
       "<Figure size 432x432 with 1 Axes>"
      ]
     },
     "metadata": {},
     "output_type": "display_data"
    }
   ],
   "source": [
    "OS_strength = {}\n",
    "\n",
    "for c in df1[\"Operating System\"].unique():\n",
    "    OS_strength[inv_os_dict[c]] = len(df1[df1[\"Operating System\"] == c])\n",
    "    \n",
    "fig = plt.figure(figsize=(6,6))\n",
    "colors = sns.color_palette('colorblind')[0:len(OS_strength)]\n",
    "plt.pie(list(OS_strength.values()) ,labels=OS_strength.keys(),radius=2, colors = colors,  autopct=\"%.1f%%\")\n",
    "plt.show()\n"
   ]
  },
  {
   "cell_type": "markdown",
   "id": "64e48b3b",
   "metadata": {},
   "source": [
    "We could see that, the MAC OS, or apple laptops are generally higher priced than the other ones, while Windows OS is the most availible in the market with a lot of price variation"
   ]
  },
  {
   "cell_type": "markdown",
   "id": "0647635a",
   "metadata": {},
   "source": [
    "# Weight of the laptops availible in the market"
   ]
  },
  {
   "cell_type": "code",
   "execution_count": 148,
   "id": "2c55d13d",
   "metadata": {},
   "outputs": [
    {
     "data": {
      "image/png": "[encoded data removed]",
      "text/plain": [
       "<Figure size 1296x504 with 1 Axes>"
      ]
     },
     "metadata": {
      "needs_background": "light"
     },
     "output_type": "display_data"
    }
   ],
   "source": [
    "fig = plt.figure(figsize = (18,7))\n",
    "sns.boxplot(y = df_visualize[\"Weight\"], x = df_visualize[\"Type\"])\n",
    "plt.show()"
   ]
  },
  {
   "cell_type": "code",
   "execution_count": 149,
   "id": "7f34214d",
   "metadata": {},
   "outputs": [
    {
     "data": {
      "text/html": [
       "<div>\n",
       "<style scoped>\n",
       "    .dataframe tbody tr th:only-of-type {\n",
       "        vertical-align: middle;\n",
       "    }\n",
       "\n",
       "    .dataframe tbody tr th {\n",
       "        vertical-align: top;\n",
       "    }\n",
       "\n",
       "    .dataframe thead th {\n",
       "        text-align: right;\n",
       "    }\n",
       "</style>\n",
       "<table border=\"1\" class=\"dataframe\">\n",
       "  <thead>\n",
       "    <tr style=\"text-align: right;\">\n",
       "      <th></th>\n",
       "      <th>Price</th>\n",
       "      <th>Type</th>\n",
       "      <th>Dedicated Graphic Memory Capacity</th>\n",
       "      <th>Processor Brand</th>\n",
       "      <th>Processor Name</th>\n",
       "      <th>SSD</th>\n",
       "      <th>RAM</th>\n",
       "      <th>Expandable Memory</th>\n",
       "      <th>Operating System</th>\n",
       "      <th>Touchscreen</th>\n",
       "      <th>Screen Size</th>\n",
       "      <th>Weight</th>\n",
       "      <th>max_res</th>\n",
       "      <th>gpu_brand</th>\n",
       "      <th>company</th>\n",
       "      <th>Storage</th>\n",
       "      <th>battery_back</th>\n",
       "      <th>gpu_processor</th>\n",
       "    </tr>\n",
       "  </thead>\n",
       "  <tbody>\n",
       "    <tr>\n",
       "      <th>0</th>\n",
       "      <td>42990</td>\n",
       "      <td>2 in 1 laptop</td>\n",
       "      <td>0</td>\n",
       "      <td>intel</td>\n",
       "      <td>pentium quad core</td>\n",
       "      <td>0</td>\n",
       "      <td>4</td>\n",
       "      <td>0</td>\n",
       "      <td>windows</td>\n",
       "      <td>1</td>\n",
       "      <td>13.3</td>\n",
       "      <td>0.78</td>\n",
       "      <td>1080</td>\n",
       "      <td>none</td>\n",
       "      <td>asus</td>\n",
       "      <td>128</td>\n",
       "      <td>5.0</td>\n",
       "      <td>intel uhd</td>\n",
       "    </tr>\n",
       "    <tr>\n",
       "      <th>1</th>\n",
       "      <td>54990</td>\n",
       "      <td>2 in 1 laptop</td>\n",
       "      <td>0</td>\n",
       "      <td>intel</td>\n",
       "      <td>pentium quad core</td>\n",
       "      <td>1</td>\n",
       "      <td>8</td>\n",
       "      <td>0</td>\n",
       "      <td>windows</td>\n",
       "      <td>1</td>\n",
       "      <td>13.3</td>\n",
       "      <td>0.78</td>\n",
       "      <td>1080</td>\n",
       "      <td>none</td>\n",
       "      <td>asus</td>\n",
       "      <td>256</td>\n",
       "      <td>5.0</td>\n",
       "      <td>intel uhd</td>\n",
       "    </tr>\n",
       "  </tbody>\n",
       "</table>\n",
       "</div>"
      ],
      "text/plain": [
       "   Price           Type  Dedicated Graphic Memory Capacity Processor Brand  \\\n",
       "0  42990  2 in 1 laptop                                  0           intel   \n",
       "1  54990  2 in 1 laptop                                  0           intel   \n",
       "\n",
       "      Processor Name  SSD  RAM  Expandable Memory Operating System  \\\n",
       "0  pentium quad core    0    4                  0          windows   \n",
       "1  pentium quad core    1    8                  0          windows   \n",
       "\n",
       "   Touchscreen  Screen Size  Weight  max_res gpu_brand company  Storage  \\\n",
       "0            1         13.3    0.78     1080      none    asus      128   \n",
       "1            1         13.3    0.78     1080      none    asus      256   \n",
       "\n",
       "   battery_back gpu_processor  \n",
       "0           5.0     intel uhd  \n",
       "1           5.0     intel uhd  "
      ]
     },
     "execution_count": 149,
     "metadata": {},
     "output_type": "execute_result"
    }
   ],
   "source": [
    "q = '''SELECT * FROM df_visualize WHERE Weight = (SELECT MIN(Weight) FROM df_visualize)\n",
    "    '''\n",
    "sqldf(q)"
   ]
  },
  {
   "cell_type": "code",
   "execution_count": 150,
   "id": "5fd45e6a",
   "metadata": {},
   "outputs": [
    {
     "data": {
      "text/html": [
       "<div>\n",
       "<style scoped>\n",
       "    .dataframe tbody tr th:only-of-type {\n",
       "        vertical-align: middle;\n",
       "    }\n",
       "\n",
       "    .dataframe tbody tr th {\n",
       "        vertical-align: top;\n",
       "    }\n",
       "\n",
       "    .dataframe thead th {\n",
       "        text-align: right;\n",
       "    }\n",
       "</style>\n",
       "<table border=\"1\" class=\"dataframe\">\n",
       "  <thead>\n",
       "    <tr style=\"text-align: right;\">\n",
       "      <th></th>\n",
       "      <th>Price</th>\n",
       "      <th>Type</th>\n",
       "      <th>Dedicated Graphic Memory Capacity</th>\n",
       "      <th>Processor Brand</th>\n",
       "      <th>Processor Name</th>\n",
       "      <th>SSD</th>\n",
       "      <th>RAM</th>\n",
       "      <th>Expandable Memory</th>\n",
       "      <th>Operating System</th>\n",
       "      <th>Touchscreen</th>\n",
       "      <th>Screen Size</th>\n",
       "      <th>Weight</th>\n",
       "      <th>max_res</th>\n",
       "      <th>gpu_brand</th>\n",
       "      <th>company</th>\n",
       "      <th>Storage</th>\n",
       "      <th>battery_back</th>\n",
       "      <th>gpu_processor</th>\n",
       "    </tr>\n",
       "  </thead>\n",
       "  <tbody>\n",
       "    <tr>\n",
       "      <th>0</th>\n",
       "      <td>234990</td>\n",
       "      <td>gaming laptop</td>\n",
       "      <td>8192</td>\n",
       "      <td>intel</td>\n",
       "      <td>core i9</td>\n",
       "      <td>1</td>\n",
       "      <td>32</td>\n",
       "      <td>1</td>\n",
       "      <td>windows</td>\n",
       "      <td>0</td>\n",
       "      <td>17.3</td>\n",
       "      <td>2.9</td>\n",
       "      <td>1440</td>\n",
       "      <td>nvidia</td>\n",
       "      <td>asus</td>\n",
       "      <td>1000</td>\n",
       "      <td>2.0</td>\n",
       "      <td>nvidia geforce rtx 3070 ti</td>\n",
       "    </tr>\n",
       "    <tr>\n",
       "      <th>1</th>\n",
       "      <td>158270</td>\n",
       "      <td>gaming laptop</td>\n",
       "      <td>8192</td>\n",
       "      <td>intel</td>\n",
       "      <td>core i7</td>\n",
       "      <td>1</td>\n",
       "      <td>16</td>\n",
       "      <td>1</td>\n",
       "      <td>windows</td>\n",
       "      <td>0</td>\n",
       "      <td>15.6</td>\n",
       "      <td>2.9</td>\n",
       "      <td>1080</td>\n",
       "      <td>nvidia</td>\n",
       "      <td>msi</td>\n",
       "      <td>1000</td>\n",
       "      <td>2.0</td>\n",
       "      <td>nvidia geforce rtx 3070</td>\n",
       "    </tr>\n",
       "    <tr>\n",
       "      <th>2</th>\n",
       "      <td>234990</td>\n",
       "      <td>gaming laptop</td>\n",
       "      <td>8192</td>\n",
       "      <td>intel</td>\n",
       "      <td>core i9</td>\n",
       "      <td>1</td>\n",
       "      <td>32</td>\n",
       "      <td>1</td>\n",
       "      <td>windows</td>\n",
       "      <td>0</td>\n",
       "      <td>17.3</td>\n",
       "      <td>2.9</td>\n",
       "      <td>1440</td>\n",
       "      <td>nvidia</td>\n",
       "      <td>asus</td>\n",
       "      <td>1000</td>\n",
       "      <td>2.0</td>\n",
       "      <td>nvidia geforce rtx 3070 ti</td>\n",
       "    </tr>\n",
       "    <tr>\n",
       "      <th>3</th>\n",
       "      <td>158270</td>\n",
       "      <td>gaming laptop</td>\n",
       "      <td>8192</td>\n",
       "      <td>intel</td>\n",
       "      <td>core i7</td>\n",
       "      <td>1</td>\n",
       "      <td>16</td>\n",
       "      <td>1</td>\n",
       "      <td>windows</td>\n",
       "      <td>0</td>\n",
       "      <td>15.6</td>\n",
       "      <td>2.9</td>\n",
       "      <td>1080</td>\n",
       "      <td>nvidia</td>\n",
       "      <td>msi</td>\n",
       "      <td>1000</td>\n",
       "      <td>2.0</td>\n",
       "      <td>nvidia geforce rtx 3070</td>\n",
       "    </tr>\n",
       "    <tr>\n",
       "      <th>4</th>\n",
       "      <td>179990</td>\n",
       "      <td>gaming laptop</td>\n",
       "      <td>8192</td>\n",
       "      <td>intel</td>\n",
       "      <td>core i7</td>\n",
       "      <td>1</td>\n",
       "      <td>16</td>\n",
       "      <td>0</td>\n",
       "      <td>windows</td>\n",
       "      <td>0</td>\n",
       "      <td>17.3</td>\n",
       "      <td>2.9</td>\n",
       "      <td>1080</td>\n",
       "      <td>nvidia</td>\n",
       "      <td>msi</td>\n",
       "      <td>1000</td>\n",
       "      <td>2.0</td>\n",
       "      <td>nvidia geforce rtx 3070</td>\n",
       "    </tr>\n",
       "  </tbody>\n",
       "</table>\n",
       "</div>"
      ],
      "text/plain": [
       "    Price           Type  Dedicated Graphic Memory Capacity Processor Brand  \\\n",
       "0  234990  gaming laptop                               8192           intel   \n",
       "1  158270  gaming laptop                               8192           intel   \n",
       "2  234990  gaming laptop                               8192           intel   \n",
       "3  158270  gaming laptop                               8192           intel   \n",
       "4  179990  gaming laptop                               8192           intel   \n",
       "\n",
       "  Processor Name  SSD  RAM  Expandable Memory Operating System  Touchscreen  \\\n",
       "0        core i9    1   32                  1          windows            0   \n",
       "1        core i7    1   16                  1          windows            0   \n",
       "2        core i9    1   32                  1          windows            0   \n",
       "3        core i7    1   16                  1          windows            0   \n",
       "4        core i7    1   16                  0          windows            0   \n",
       "\n",
       "   Screen Size  Weight  max_res gpu_brand company  Storage  battery_back  \\\n",
       "0         17.3     2.9     1440    nvidia    asus     1000           2.0   \n",
       "1         15.6     2.9     1080    nvidia     msi     1000           2.0   \n",
       "2         17.3     2.9     1440    nvidia    asus     1000           2.0   \n",
       "3         15.6     2.9     1080    nvidia     msi     1000           2.0   \n",
       "4         17.3     2.9     1080    nvidia     msi     1000           2.0   \n",
       "\n",
       "                gpu_processor  \n",
       "0  nvidia geforce rtx 3070 ti  \n",
       "1     nvidia geforce rtx 3070  \n",
       "2  nvidia geforce rtx 3070 ti  \n",
       "3     nvidia geforce rtx 3070  \n",
       "4     nvidia geforce rtx 3070  "
      ]
     },
     "execution_count": 150,
     "metadata": {},
     "output_type": "execute_result"
    }
   ],
   "source": [
    "q = '''SELECT * FROM df_visualize WHERE Weight = (SELECT MAX(Weight) FROM df_visualize)\n",
    "    '''\n",
    "sqldf(q)"
   ]
  },
  {
   "cell_type": "markdown",
   "id": "dc45a3a9",
   "metadata": {},
   "source": [
    "As we can see, the gaming laptops have the highest weight overall and the 2 in ones are the lightest ones, Also, the heaviest laptops are all of the type gaming type which weigh about 3 kgs!"
   ]
  },
  {
   "cell_type": "markdown",
   "id": "4a10f4c0",
   "metadata": {},
   "source": [
    "# GPU memory capacity and price variation"
   ]
  },
  {
   "cell_type": "code",
   "execution_count": 151,
   "id": "55368bfc",
   "metadata": {},
   "outputs": [
    {
     "data": {
      "image/png": "[encoded data removed]",
      "text/plain": [
       "<Figure size 1080x360 with 1 Axes>"
      ]
     },
     "metadata": {
      "needs_background": "light"
     },
     "output_type": "display_data"
    }
   ],
   "source": [
    "fig = plt.figure(figsize = (15,5))\n",
    "sns.boxplot(x = df_visualize[\"Dedicated Graphic Memory Capacity\"], y = df_visualize[\"Price\"])\n",
    "plt.show()"
   ]
  },
  {
   "cell_type": "markdown",
   "id": "45e7b105",
   "metadata": {},
   "source": [
    "Here, for the laptops with GPU memory > 2GB, there's a +ve correlation with price"
   ]
  },
  {
   "cell_type": "code",
   "execution_count": 152,
   "id": "6c4f0f27",
   "metadata": {},
   "outputs": [
    {
     "data": {
      "text/html": [
       "<div>\n",
       "<style scoped>\n",
       "    .dataframe tbody tr th:only-of-type {\n",
       "        vertical-align: middle;\n",
       "    }\n",
       "\n",
       "    .dataframe tbody tr th {\n",
       "        vertical-align: top;\n",
       "    }\n",
       "\n",
       "    .dataframe thead th {\n",
       "        text-align: right;\n",
       "    }\n",
       "</style>\n",
       "<table border=\"1\" class=\"dataframe\">\n",
       "  <thead>\n",
       "    <tr style=\"text-align: right;\">\n",
       "      <th></th>\n",
       "      <th>gpu_cap</th>\n",
       "      <th>num_models</th>\n",
       "      <th>avg_price</th>\n",
       "    </tr>\n",
       "  </thead>\n",
       "  <tbody>\n",
       "    <tr>\n",
       "      <th>0</th>\n",
       "      <td>2048</td>\n",
       "      <td>59</td>\n",
       "      <td>78405.220339</td>\n",
       "    </tr>\n",
       "    <tr>\n",
       "      <th>1</th>\n",
       "      <td>4096</td>\n",
       "      <td>185</td>\n",
       "      <td>89197.221622</td>\n",
       "    </tr>\n",
       "    <tr>\n",
       "      <th>2</th>\n",
       "      <td>6144</td>\n",
       "      <td>39</td>\n",
       "      <td>123931.025641</td>\n",
       "    </tr>\n",
       "    <tr>\n",
       "      <th>3</th>\n",
       "      <td>10240</td>\n",
       "      <td>1</td>\n",
       "      <td>129990.000000</td>\n",
       "    </tr>\n",
       "    <tr>\n",
       "      <th>4</th>\n",
       "      <td>12288</td>\n",
       "      <td>1</td>\n",
       "      <td>154990.000000</td>\n",
       "    </tr>\n",
       "    <tr>\n",
       "      <th>5</th>\n",
       "      <td>8192</td>\n",
       "      <td>20</td>\n",
       "      <td>189233.400000</td>\n",
       "    </tr>\n",
       "    <tr>\n",
       "      <th>6</th>\n",
       "      <td>16384</td>\n",
       "      <td>2</td>\n",
       "      <td>283490.000000</td>\n",
       "    </tr>\n",
       "  </tbody>\n",
       "</table>\n",
       "</div>"
      ],
      "text/plain": [
       "   gpu_cap  num_models      avg_price\n",
       "0     2048          59   78405.220339\n",
       "1     4096         185   89197.221622\n",
       "2     6144          39  123931.025641\n",
       "3    10240           1  129990.000000\n",
       "4    12288           1  154990.000000\n",
       "5     8192          20  189233.400000\n",
       "6    16384           2  283490.000000"
      ]
     },
     "execution_count": 152,
     "metadata": {},
     "output_type": "execute_result"
    }
   ],
   "source": [
    "q = '''SELECT \"Dedicated Graphic Memory Capacity\" as gpu_cap, COUNT(*) AS num_models, AVG(Price) AS avg_price FROM df_visualize \n",
    "    WHERE \"Dedicated Graphic Memory Capacity\" >= 2048 \n",
    "    GROUP BY \"Dedicated Graphic Memory Capacity\" \n",
    "    ORDER BY avg_price \n",
    "    '''\n",
    "gmem_df = sqldf(q)\n",
    "gmem_df"
   ]
  },
  {
   "cell_type": "code",
   "execution_count": 153,
   "id": "07fadec9",
   "metadata": {},
   "outputs": [
    {
     "data": {
      "image/png": "[encoded data removed]",
      "text/plain": [
       "<Figure size 1800x720 with 1 Axes>"
      ]
     },
     "metadata": {
      "needs_background": "light"
     },
     "output_type": "display_data"
    }
   ],
   "source": [
    "fig = plt.figure(figsize = (25,10))\n",
    "plt.rcParams['font.size'] = 15\n",
    "plt.xticks(rotation=90)\n",
    "sns.barplot(x = gmem_df[\"gpu_cap\"], y = gmem_df[\"avg_price\"])\n",
    "plt.title(\"Avg price of laptops containing the respective GPU memory\")\n",
    "plt.show()"
   ]
  },
  {
   "cell_type": "markdown",
   "id": "a8e0b853",
   "metadata": {},
   "source": [
    "Note that, the GPU capacity isn't a very great indicator of the Graphics performace of a laptop as the no.of cores and specific model actually matters in terms of performance."
   ]
  },
  {
   "cell_type": "markdown",
   "id": "6ea9f897",
   "metadata": {},
   "source": [
    "# GPU brands and thier costs"
   ]
  },
  {
   "cell_type": "code",
   "execution_count": 154,
   "id": "b0ea4272",
   "metadata": {},
   "outputs": [
    {
     "data": {
      "image/png": "[encoded data removed]",
      "text/plain": [
       "<Figure size 1080x360 with 1 Axes>"
      ]
     },
     "metadata": {
      "needs_background": "light"
     },
     "output_type": "display_data"
    }
   ],
   "source": [
    "fig = plt.figure(figsize = (15,5))\n",
    "sns.boxplot(x = df_visualize[\"gpu_brand\"], y = df_visualize[\"Price\"])\n",
    "plt.show()\n",
    "\n",
    "# Here, none denotes intel chipsets"
   ]
  },
  {
   "cell_type": "markdown",
   "id": "3115012a",
   "metadata": {},
   "source": [
    "# Screen resolution and price variation"
   ]
  },
  {
   "cell_type": "code",
   "execution_count": 155,
   "id": "9c972329",
   "metadata": {},
   "outputs": [
    {
     "data": {
      "image/png": "[encoded data removed]",
      "text/plain": [
       "<Figure size 1080x360 with 1 Axes>"
      ]
     },
     "metadata": {
      "needs_background": "light"
     },
     "output_type": "display_data"
    }
   ],
   "source": [
    "fig = plt.figure(figsize = (15,5))\n",
    "sns.boxplot(x = df_visualize[\"max_res\"], y = df_visualize[\"Price\"])\n",
    "plt.show()"
   ]
  },
  {
   "cell_type": "code",
   "execution_count": 156,
   "id": "4475da64",
   "metadata": {},
   "outputs": [
    {
     "name": "stdout",
     "output_type": "stream",
     "text": [
      "   max_res  num_models\n",
      "0     1080         806\n",
      "1      720          84\n",
      "2     1440          81\n",
      "3     2160          13\n"
     ]
    }
   ],
   "source": [
    "q = '''SELECT max_res, COUNT(*) as num_models\n",
    "FROM df_visualize GROUP BY max_res ORDER BY num_models desc\n",
    "    ''' \n",
    "\n",
    "sres_df = sqldf(q)\n",
    "print(sres_df)"
   ]
  },
  {
   "cell_type": "code",
   "execution_count": 157,
   "id": "4b1750f7",
   "metadata": {},
   "outputs": [
    {
     "data": {
      "text/plain": [
       "806"
      ]
     },
     "execution_count": 157,
     "metadata": {},
     "output_type": "execute_result"
    }
   ],
   "source": [
    "int(sres_df[sres_df[\"max_res\"] == 1080][\"num_models\"])"
   ]
  },
  {
   "cell_type": "code",
   "execution_count": 158,
   "id": "9cca2e44",
   "metadata": {},
   "outputs": [
    {
     "data": {
      "image/png": "[encoded data removed]",
      "text/plain": [
       "<Figure size 432x432 with 1 Axes>"
      ]
     },
     "metadata": {},
     "output_type": "display_data"
    }
   ],
   "source": [
    "sres = {}\n",
    "\n",
    "for c in list(sres_df[\"max_res\"].unique()):\n",
    "    sres[c] = int(sres_df[sres_df[\"max_res\"] == c][\"num_models\"])\n",
    "    \n",
    "fig = plt.figure(figsize=(6,6))\n",
    "plt.rcParams['font.size'] = 10\n",
    "plt.title(\"Distribution of the availible screen resolution in laptops\")\n",
    "colors = sns.color_palette('colorblind')[0:len(sres)]\n",
    "plt.pie(list(sres.values()) ,labels=sres.keys(),autopct=\"%.1f%%\" ,radius=1.15, colors = colors)\n",
    "plt.show()"
   ]
  },
  {
   "cell_type": "code",
   "execution_count": 159,
   "id": "fd4107d8",
   "metadata": {},
   "outputs": [
    {
     "name": "stdout",
     "output_type": "stream",
     "text": [
      "The cheapest laptop with a 4K resolution is :- \n",
      "Price :-  ?79,190\n"
     ]
    },
    {
     "data": {
      "text/html": [
       "<div>\n",
       "<style scoped>\n",
       "    .dataframe tbody tr th:only-of-type {\n",
       "        vertical-align: middle;\n",
       "    }\n",
       "\n",
       "    .dataframe tbody tr th {\n",
       "        vertical-align: top;\n",
       "    }\n",
       "\n",
       "    .dataframe thead th {\n",
       "        text-align: right;\n",
       "    }\n",
       "</style>\n",
       "<table border=\"1\" class=\"dataframe\">\n",
       "  <thead>\n",
       "    <tr style=\"text-align: right;\">\n",
       "      <th></th>\n",
       "      <th>Unnamed: 0</th>\n",
       "      <th>link</th>\n",
       "      <th>name</th>\n",
       "      <th>user rating</th>\n",
       "      <th>Price</th>\n",
       "      <th>Sales Package</th>\n",
       "      <th>Model Number</th>\n",
       "      <th>Part Number</th>\n",
       "      <th>Model Name</th>\n",
       "      <th>Series</th>\n",
       "      <th>...</th>\n",
       "      <th>Security Chip</th>\n",
       "      <th>Inbuilt 4G LTE</th>\n",
       "      <th>Cloud Storage</th>\n",
       "      <th>S-video</th>\n",
       "      <th>Dock Port</th>\n",
       "      <th>Firewire Port</th>\n",
       "      <th>RJ11</th>\n",
       "      <th>Read/Write Speed</th>\n",
       "      <th>EMMC Storage Capacity</th>\n",
       "      <th>Optane Memory</th>\n",
       "    </tr>\n",
       "  </thead>\n",
       "  <tbody>\n",
       "    <tr>\n",
       "      <th>543</th>\n",
       "      <td>543</td>\n",
       "      <td>https://www.flipkart.com/hp-envy-intel-evo-cor...</td>\n",
       "      <td>hp hp envy intel evo core i5 11th gen - (16 gb...</td>\n",
       "      <td>nan</td>\n",
       "      <td>?79,190</td>\n",
       "      <td>laptop, power adaptor, user guide, warranty do...</td>\n",
       "      <td>14-eb0019tx</td>\n",
       "      <td>389u8pa#acj</td>\n",
       "      <td>14-eb0019tx</td>\n",
       "      <td>hp envy intel evo</td>\n",
       "      <td>...</td>\n",
       "      <td>nan</td>\n",
       "      <td>nan</td>\n",
       "      <td>nan</td>\n",
       "      <td>nan</td>\n",
       "      <td>nan</td>\n",
       "      <td>nan</td>\n",
       "      <td>nan</td>\n",
       "      <td>nan</td>\n",
       "      <td>nan</td>\n",
       "      <td>nan</td>\n",
       "    </tr>\n",
       "  </tbody>\n",
       "</table>\n",
       "<p>1 rows × 98 columns</p>\n",
       "</div>"
      ],
      "text/plain": [
       "    Unnamed: 0                                               link  \\\n",
       "543        543  https://www.flipkart.com/hp-envy-intel-evo-cor...   \n",
       "\n",
       "                                                  name user rating    Price  \\\n",
       "543  hp hp envy intel evo core i5 11th gen - (16 gb...         nan  ?79,190   \n",
       "\n",
       "                                         Sales Package Model Number  \\\n",
       "543  laptop, power adaptor, user guide, warranty do...  14-eb0019tx   \n",
       "\n",
       "     Part Number   Model Name             Series  ... Security Chip  \\\n",
       "543  389u8pa#acj  14-eb0019tx  hp envy intel evo  ...           nan   \n",
       "\n",
       "    Inbuilt 4G LTE Cloud Storage S-video Dock Port Firewire Port RJ11  \\\n",
       "543            nan           nan     nan       nan           nan  nan   \n",
       "\n",
       "    Read/Write Speed EMMC Storage Capacity Optane Memory  \n",
       "543              nan                   nan           nan  \n",
       "\n",
       "[1 rows x 98 columns]"
      ]
     },
     "execution_count": 159,
     "metadata": {},
     "output_type": "execute_result"
    }
   ],
   "source": [
    "print(\"The cheapest laptop with a 4K resolution is :- \")\n",
    "\n",
    "ind = df_visualize[df_visualize[\"Price\"] == min(df_visualize[df_visualize[\"max_res\"] == 2160][\"Price\"])].index\n",
    "print(\"Price :- \",np.array(df2[\"Price\"].iloc[ind])[0])\n",
    "df2.iloc[ind]"
   ]
  },
  {
   "cell_type": "code",
   "execution_count": 160,
   "id": "298d010c",
   "metadata": {},
   "outputs": [
    {
     "name": "stdout",
     "output_type": "stream",
     "text": [
      "The most expensive laptop with a 4K resolution is :- \n",
      "Price :-  ?2,39,990\n"
     ]
    },
    {
     "data": {
      "text/html": [
       "<div>\n",
       "<style scoped>\n",
       "    .dataframe tbody tr th:only-of-type {\n",
       "        vertical-align: middle;\n",
       "    }\n",
       "\n",
       "    .dataframe tbody tr th {\n",
       "        vertical-align: top;\n",
       "    }\n",
       "\n",
       "    .dataframe thead th {\n",
       "        text-align: right;\n",
       "    }\n",
       "</style>\n",
       "<table border=\"1\" class=\"dataframe\">\n",
       "  <thead>\n",
       "    <tr style=\"text-align: right;\">\n",
       "      <th></th>\n",
       "      <th>Unnamed: 0</th>\n",
       "      <th>link</th>\n",
       "      <th>name</th>\n",
       "      <th>user rating</th>\n",
       "      <th>Price</th>\n",
       "      <th>Sales Package</th>\n",
       "      <th>Model Number</th>\n",
       "      <th>Part Number</th>\n",
       "      <th>Model Name</th>\n",
       "      <th>Series</th>\n",
       "      <th>...</th>\n",
       "      <th>Security Chip</th>\n",
       "      <th>Inbuilt 4G LTE</th>\n",
       "      <th>Cloud Storage</th>\n",
       "      <th>S-video</th>\n",
       "      <th>Dock Port</th>\n",
       "      <th>Firewire Port</th>\n",
       "      <th>RJ11</th>\n",
       "      <th>Read/Write Speed</th>\n",
       "      <th>EMMC Storage Capacity</th>\n",
       "      <th>Optane Memory</th>\n",
       "    </tr>\n",
       "  </thead>\n",
       "  <tbody>\n",
       "    <tr>\n",
       "      <th>735</th>\n",
       "      <td>735</td>\n",
       "      <td>https://www.flipkart.com/asus-rog-flow-x13-202...</td>\n",
       "      <td>asus rog flow x13 (2021) ryzen 9 octa core 598...</td>\n",
       "      <td>5.0</td>\n",
       "      <td>?2,39,990</td>\n",
       "      <td>laptop, power adaptor, user guide, gv 301 slee...</td>\n",
       "      <td>gv301qh-k5459ts</td>\n",
       "      <td>90nr06c5-m10980</td>\n",
       "      <td>nan</td>\n",
       "      <td>rog flow x13 (2021)</td>\n",
       "      <td>...</td>\n",
       "      <td>nan</td>\n",
       "      <td>nan</td>\n",
       "      <td>nan</td>\n",
       "      <td>nan</td>\n",
       "      <td>nan</td>\n",
       "      <td>nan</td>\n",
       "      <td>nan</td>\n",
       "      <td>nan</td>\n",
       "      <td>nan</td>\n",
       "      <td>nan</td>\n",
       "    </tr>\n",
       "  </tbody>\n",
       "</table>\n",
       "<p>1 rows × 98 columns</p>\n",
       "</div>"
      ],
      "text/plain": [
       "    Unnamed: 0                                               link  \\\n",
       "735        735  https://www.flipkart.com/asus-rog-flow-x13-202...   \n",
       "\n",
       "                                                  name user rating      Price  \\\n",
       "735  asus rog flow x13 (2021) ryzen 9 octa core 598...         5.0  ?2,39,990   \n",
       "\n",
       "                                         Sales Package     Model Number  \\\n",
       "735  laptop, power adaptor, user guide, gv 301 slee...  gv301qh-k5459ts   \n",
       "\n",
       "         Part Number Model Name               Series  ... Security Chip  \\\n",
       "735  90nr06c5-m10980        nan  rog flow x13 (2021)  ...           nan   \n",
       "\n",
       "    Inbuilt 4G LTE Cloud Storage S-video Dock Port Firewire Port RJ11  \\\n",
       "735            nan           nan     nan       nan           nan  nan   \n",
       "\n",
       "    Read/Write Speed EMMC Storage Capacity Optane Memory  \n",
       "735              nan                   nan           nan  \n",
       "\n",
       "[1 rows x 98 columns]"
      ]
     },
     "execution_count": 160,
     "metadata": {},
     "output_type": "execute_result"
    }
   ],
   "source": [
    "print(\"The most expensive laptop with a 4K resolution is :- \")\n",
    "\n",
    "\n",
    "ind = df_visualize[df_visualize[\"Price\"] == max(df_visualize[df_visualize[\"max_res\"] == 2160][\"Price\"])].index\n",
    "\n",
    "print(\"Price :- \",np.array(df2[\"Price\"].iloc[ind])[0])\n",
    "\n",
    "df2.iloc[ind]"
   ]
  },
  {
   "cell_type": "markdown",
   "id": "3666d7f1",
   "metadata": {},
   "source": [
    "# Amount of RAM and it's price variation"
   ]
  },
  {
   "cell_type": "code",
   "execution_count": 161,
   "id": "6a90ab20",
   "metadata": {},
   "outputs": [
    {
     "data": {
      "image/png": "[encoded data removed]",
      "text/plain": [
       "<Figure size 1080x360 with 1 Axes>"
      ]
     },
     "metadata": {
      "needs_background": "light"
     },
     "output_type": "display_data"
    }
   ],
   "source": [
    "fig = plt.figure(figsize = (15,5))\n",
    "sns.boxplot(x = df_visualize[\"RAM\"], y = df_visualize[\"Price\"])\n",
    "plt.show()"
   ]
  },
  {
   "cell_type": "markdown",
   "id": "b028df22",
   "metadata": {},
   "source": [
    "We could clearly see a +ve correlation with the amount of RAM and price, which is pretty obvious as main memory is much expensive than the secondary memory"
   ]
  },
  {
   "cell_type": "code",
   "execution_count": 162,
   "id": "6d5d3fbe",
   "metadata": {},
   "outputs": [
    {
     "name": "stdout",
     "output_type": "stream",
     "text": [
      "   RAM  num_models\n",
      "0    8         557\n",
      "1   16         306\n",
      "2    4         106\n",
      "3   32          15\n"
     ]
    }
   ],
   "source": [
    "q = '''SELECT RAM, COUNT(*) as num_models FROM df_visualize GROUP BY RAM ORDER BY num_models DESC;\n",
    "'''\n",
    "print(sqldf(q))"
   ]
  },
  {
   "cell_type": "markdown",
   "id": "8c59d674",
   "metadata": {},
   "source": [
    "As we can see ,there are a majority of 8GB RAM models in the present market"
   ]
  },
  {
   "cell_type": "markdown",
   "id": "187b64a0",
   "metadata": {},
   "source": [
    "# Most frequent CPU processors which are used in the market (May-June 2022)"
   ]
  },
  {
   "cell_type": "code",
   "execution_count": 163,
   "id": "31436f1b",
   "metadata": {},
   "outputs": [
    {
     "data": {
      "image/png": "[encoded data removed]",
      "text/plain": [
       "<Figure size 1800x720 with 1 Axes>"
      ]
     },
     "metadata": {
      "needs_background": "light"
     },
     "output_type": "display_data"
    }
   ],
   "source": [
    "fig = plt.figure(figsize = (25,10))\n",
    "plt.rcParams['font.size'] = 20\n",
    "plt.xticks(rotation=90)\n",
    "sns.countplot(x = df_visualize[\"Processor Name\"], order = df_visualize[\"Processor Name\"].value_counts().index)\n",
    "plt.show()"
   ]
  },
  {
   "cell_type": "markdown",
   "id": "4734c7a5",
   "metadata": {},
   "source": [
    "# Price variation of CPU processors which are availible in the market (July-May 2022)"
   ]
  },
  {
   "cell_type": "code",
   "execution_count": 164,
   "id": "1950d1e6",
   "metadata": {},
   "outputs": [
    {
     "data": {
      "text/html": [
       "<div>\n",
       "<style scoped>\n",
       "    .dataframe tbody tr th:only-of-type {\n",
       "        vertical-align: middle;\n",
       "    }\n",
       "\n",
       "    .dataframe tbody tr th {\n",
       "        vertical-align: top;\n",
       "    }\n",
       "\n",
       "    .dataframe thead th {\n",
       "        text-align: right;\n",
       "    }\n",
       "</style>\n",
       "<table border=\"1\" class=\"dataframe\">\n",
       "  <thead>\n",
       "    <tr style=\"text-align: right;\">\n",
       "      <th></th>\n",
       "      <th>Processor Name</th>\n",
       "      <th>avg_cpu_price</th>\n",
       "      <th>num_models</th>\n",
       "    </tr>\n",
       "  </thead>\n",
       "  <tbody>\n",
       "    <tr>\n",
       "      <th>0</th>\n",
       "      <td>m1 pro</td>\n",
       "      <td>225990.000000</td>\n",
       "      <td>1</td>\n",
       "    </tr>\n",
       "    <tr>\n",
       "      <th>1</th>\n",
       "      <td>core i9</td>\n",
       "      <td>211236.769231</td>\n",
       "      <td>13</td>\n",
       "    </tr>\n",
       "    <tr>\n",
       "      <th>2</th>\n",
       "      <td>ryzen 9 octa core</td>\n",
       "      <td>132757.333333</td>\n",
       "      <td>30</td>\n",
       "    </tr>\n",
       "    <tr>\n",
       "      <th>3</th>\n",
       "      <td>core i7</td>\n",
       "      <td>116338.663793</td>\n",
       "      <td>116</td>\n",
       "    </tr>\n",
       "    <tr>\n",
       "      <th>4</th>\n",
       "      <td>m1</td>\n",
       "      <td>110171.818182</td>\n",
       "      <td>11</td>\n",
       "    </tr>\n",
       "    <tr>\n",
       "      <th>5</th>\n",
       "      <td>octa core i7</td>\n",
       "      <td>96290.000000</td>\n",
       "      <td>2</td>\n",
       "    </tr>\n",
       "    <tr>\n",
       "      <th>6</th>\n",
       "      <td>ryzen 7 octa core</td>\n",
       "      <td>89038.388889</td>\n",
       "      <td>72</td>\n",
       "    </tr>\n",
       "    <tr>\n",
       "      <th>7</th>\n",
       "      <td>ryzen 7 dual core</td>\n",
       "      <td>82980.000000</td>\n",
       "      <td>2</td>\n",
       "    </tr>\n",
       "    <tr>\n",
       "      <th>8</th>\n",
       "      <td>ryzen 7 hexa core</td>\n",
       "      <td>80060.000000</td>\n",
       "      <td>2</td>\n",
       "    </tr>\n",
       "    <tr>\n",
       "      <th>9</th>\n",
       "      <td>ryzen 7 quad core</td>\n",
       "      <td>71985.571429</td>\n",
       "      <td>7</td>\n",
       "    </tr>\n",
       "    <tr>\n",
       "      <th>10</th>\n",
       "      <td>core i5</td>\n",
       "      <td>68098.352349</td>\n",
       "      <td>298</td>\n",
       "    </tr>\n",
       "    <tr>\n",
       "      <th>11</th>\n",
       "      <td>hexa core i5</td>\n",
       "      <td>66990.000000</td>\n",
       "      <td>3</td>\n",
       "    </tr>\n",
       "    <tr>\n",
       "      <th>12</th>\n",
       "      <td>ryzen 3 hexa core</td>\n",
       "      <td>65490.000000</td>\n",
       "      <td>1</td>\n",
       "    </tr>\n",
       "    <tr>\n",
       "      <th>13</th>\n",
       "      <td>ryzen 5 hexa core</td>\n",
       "      <td>63991.258427</td>\n",
       "      <td>89</td>\n",
       "    </tr>\n",
       "    <tr>\n",
       "      <th>14</th>\n",
       "      <td>ryzen 5 octa core</td>\n",
       "      <td>57985.000000</td>\n",
       "      <td>2</td>\n",
       "    </tr>\n",
       "    <tr>\n",
       "      <th>15</th>\n",
       "      <td>ryzen 5 quad core</td>\n",
       "      <td>50072.380952</td>\n",
       "      <td>21</td>\n",
       "    </tr>\n",
       "    <tr>\n",
       "      <th>16</th>\n",
       "      <td>ryzen 5 dual core</td>\n",
       "      <td>46790.000000</td>\n",
       "      <td>1</td>\n",
       "    </tr>\n",
       "    <tr>\n",
       "      <th>17</th>\n",
       "      <td>core i3</td>\n",
       "      <td>42072.476852</td>\n",
       "      <td>216</td>\n",
       "    </tr>\n",
       "    <tr>\n",
       "      <th>18</th>\n",
       "      <td>ryzen 3 dual core</td>\n",
       "      <td>38875.458333</td>\n",
       "      <td>24</td>\n",
       "    </tr>\n",
       "    <tr>\n",
       "      <th>19</th>\n",
       "      <td>ryzen 3 quad core</td>\n",
       "      <td>38753.600000</td>\n",
       "      <td>5</td>\n",
       "    </tr>\n",
       "    <tr>\n",
       "      <th>20</th>\n",
       "      <td>snapdragon 7c gen 2</td>\n",
       "      <td>37990.000000</td>\n",
       "      <td>2</td>\n",
       "    </tr>\n",
       "    <tr>\n",
       "      <th>21</th>\n",
       "      <td>pentium quad core</td>\n",
       "      <td>37529.916667</td>\n",
       "      <td>12</td>\n",
       "    </tr>\n",
       "    <tr>\n",
       "      <th>22</th>\n",
       "      <td>pentium silver</td>\n",
       "      <td>31994.500000</td>\n",
       "      <td>4</td>\n",
       "    </tr>\n",
       "    <tr>\n",
       "      <th>23</th>\n",
       "      <td>athlon dual core</td>\n",
       "      <td>30905.571429</td>\n",
       "      <td>7</td>\n",
       "    </tr>\n",
       "    <tr>\n",
       "      <th>24</th>\n",
       "      <td>dual core</td>\n",
       "      <td>28490.000000</td>\n",
       "      <td>2</td>\n",
       "    </tr>\n",
       "    <tr>\n",
       "      <th>25</th>\n",
       "      <td>celeron quad core</td>\n",
       "      <td>27240.000000</td>\n",
       "      <td>2</td>\n",
       "    </tr>\n",
       "    <tr>\n",
       "      <th>26</th>\n",
       "      <td>celeron dual core</td>\n",
       "      <td>25212.606061</td>\n",
       "      <td>33</td>\n",
       "    </tr>\n",
       "    <tr>\n",
       "      <th>27</th>\n",
       "      <td>apu dual core a6</td>\n",
       "      <td>24755.500000</td>\n",
       "      <td>2</td>\n",
       "    </tr>\n",
       "    <tr>\n",
       "      <th>28</th>\n",
       "      <td>apu dual core a9</td>\n",
       "      <td>24493.000000</td>\n",
       "      <td>2</td>\n",
       "    </tr>\n",
       "    <tr>\n",
       "      <th>29</th>\n",
       "      <td>mediatek kompanio 500</td>\n",
       "      <td>20240.000000</td>\n",
       "      <td>2</td>\n",
       "    </tr>\n",
       "  </tbody>\n",
       "</table>\n",
       "</div>"
      ],
      "text/plain": [
       "           Processor Name  avg_cpu_price  num_models\n",
       "0                  m1 pro  225990.000000           1\n",
       "1                 core i9  211236.769231          13\n",
       "2       ryzen 9 octa core  132757.333333          30\n",
       "3                 core i7  116338.663793         116\n",
       "4                      m1  110171.818182          11\n",
       "5            octa core i7   96290.000000           2\n",
       "6       ryzen 7 octa core   89038.388889          72\n",
       "7       ryzen 7 dual core   82980.000000           2\n",
       "8       ryzen 7 hexa core   80060.000000           2\n",
       "9       ryzen 7 quad core   71985.571429           7\n",
       "10                core i5   68098.352349         298\n",
       "11           hexa core i5   66990.000000           3\n",
       "12      ryzen 3 hexa core   65490.000000           1\n",
       "13      ryzen 5 hexa core   63991.258427          89\n",
       "14      ryzen 5 octa core   57985.000000           2\n",
       "15      ryzen 5 quad core   50072.380952          21\n",
       "16      ryzen 5 dual core   46790.000000           1\n",
       "17                core i3   42072.476852         216\n",
       "18      ryzen 3 dual core   38875.458333          24\n",
       "19      ryzen 3 quad core   38753.600000           5\n",
       "20    snapdragon 7c gen 2   37990.000000           2\n",
       "21      pentium quad core   37529.916667          12\n",
       "22         pentium silver   31994.500000           4\n",
       "23       athlon dual core   30905.571429           7\n",
       "24              dual core   28490.000000           2\n",
       "25      celeron quad core   27240.000000           2\n",
       "26      celeron dual core   25212.606061          33\n",
       "27       apu dual core a6   24755.500000           2\n",
       "28       apu dual core a9   24493.000000           2\n",
       "29  mediatek kompanio 500   20240.000000           2"
      ]
     },
     "execution_count": 164,
     "metadata": {},
     "output_type": "execute_result"
    }
   ],
   "source": [
    "q = '''SELECT \"Processor Name\", AVG(Price) AS avg_cpu_price, COUNT(*) AS num_models FROM df_visualize\n",
    "        GROUP BY \"Processor Name\" ORDER BY avg_cpu_price DESC'''\n",
    "cpu_avg_price_df = sqldf(q)\n",
    "cpu_avg_price_df"
   ]
  },
  {
   "cell_type": "code",
   "execution_count": 165,
   "id": "ccfec34d",
   "metadata": {},
   "outputs": [
    {
     "data": {
      "image/png": "[encoded data removed]",
      "text/plain": [
       "<Figure size 1800x720 with 1 Axes>"
      ]
     },
     "metadata": {
      "needs_background": "light"
     },
     "output_type": "display_data"
    }
   ],
   "source": [
    "fig = plt.figure(figsize = (25,10))\n",
    "plt.rcParams['font.size'] = 15\n",
    "plt.xticks(rotation=90)\n",
    "sns.barplot(x = cpu_avg_price_df[\"Processor Name\"], y = cpu_avg_price_df[\"avg_cpu_price\"])\n",
    "plt.title(\"Avg price of laptops containing the respective CPUs\")\n",
    "plt.show()"
   ]
  },
  {
   "cell_type": "markdown",
   "id": "cdc70342",
   "metadata": {},
   "source": [
    "As we can see, the price of the most used processors is around Rs.50000, and then the count of costly processors decreases, resembling a skewed distribution"
   ]
  },
  {
   "cell_type": "markdown",
   "id": "58158487",
   "metadata": {},
   "source": [
    "# Most frequent GPU processors which are used in the market (July-May 2022)"
   ]
  },
  {
   "cell_type": "code",
   "execution_count": 166,
   "id": "5fd28c6b",
   "metadata": {},
   "outputs": [
    {
     "data": {
      "image/png": "[encoded data removed]",
      "text/plain": [
       "<Figure size 1800x720 with 1 Axes>"
      ]
     },
     "metadata": {
      "needs_background": "light"
     },
     "output_type": "display_data"
    }
   ],
   "source": [
    "fig = plt.figure(figsize = (25,10))\n",
    "plt.rcParams['font.size'] = 15\n",
    "plt.xticks(rotation=90)\n",
    "sns.countplot(x = df_visualize[\"gpu_processor\"], order = df_visualize[\"gpu_processor\"].value_counts().index)\n",
    "plt.show()"
   ]
  },
  {
   "cell_type": "code",
   "execution_count": 167,
   "id": "9035a5bf",
   "metadata": {},
   "outputs": [
    {
     "data": {
      "text/html": [
       "<div>\n",
       "<style scoped>\n",
       "    .dataframe tbody tr th:only-of-type {\n",
       "        vertical-align: middle;\n",
       "    }\n",
       "\n",
       "    .dataframe tbody tr th {\n",
       "        vertical-align: top;\n",
       "    }\n",
       "\n",
       "    .dataframe thead th {\n",
       "        text-align: right;\n",
       "    }\n",
       "</style>\n",
       "<table border=\"1\" class=\"dataframe\">\n",
       "  <thead>\n",
       "    <tr style=\"text-align: right;\">\n",
       "      <th></th>\n",
       "      <th>gpu_processor</th>\n",
       "      <th>avg_gpu_price</th>\n",
       "      <th>num_models</th>\n",
       "    </tr>\n",
       "  </thead>\n",
       "  <tbody>\n",
       "    <tr>\n",
       "      <th>0</th>\n",
       "      <td>nvidia geforce rtx 3080 ti</td>\n",
       "      <td>301990.000000</td>\n",
       "      <td>1</td>\n",
       "    </tr>\n",
       "    <tr>\n",
       "      <th>1</th>\n",
       "      <td>nvidia quadro t2000</td>\n",
       "      <td>272000.000000</td>\n",
       "      <td>1</td>\n",
       "    </tr>\n",
       "    <tr>\n",
       "      <th>2</th>\n",
       "      <td>nvidia geforce rtx 2080 super max-q</td>\n",
       "      <td>265998.000000</td>\n",
       "      <td>1</td>\n",
       "    </tr>\n",
       "    <tr>\n",
       "      <th>3</th>\n",
       "      <td>nvidia geforce rtx 3070 ti</td>\n",
       "      <td>247847.142857</td>\n",
       "      <td>7</td>\n",
       "    </tr>\n",
       "    <tr>\n",
       "      <th>4</th>\n",
       "      <td>nvidia quadro p520</td>\n",
       "      <td>244801.000000</td>\n",
       "      <td>1</td>\n",
       "    </tr>\n",
       "    <tr>\n",
       "      <th>...</th>\n",
       "      <td>...</td>\n",
       "      <td>...</td>\n",
       "      <td>...</td>\n",
       "    </tr>\n",
       "    <tr>\n",
       "      <th>57</th>\n",
       "      <td>amd radeon r5</td>\n",
       "      <td>27090.000000</td>\n",
       "      <td>1</td>\n",
       "    </tr>\n",
       "    <tr>\n",
       "      <th>58</th>\n",
       "      <td>intel uhd 605</td>\n",
       "      <td>26990.000000</td>\n",
       "      <td>2</td>\n",
       "    </tr>\n",
       "    <tr>\n",
       "      <th>59</th>\n",
       "      <td>intel uhd 600</td>\n",
       "      <td>24363.636364</td>\n",
       "      <td>11</td>\n",
       "    </tr>\n",
       "    <tr>\n",
       "      <th>60</th>\n",
       "      <td>intel hd 500</td>\n",
       "      <td>21491.800000</td>\n",
       "      <td>5</td>\n",
       "    </tr>\n",
       "    <tr>\n",
       "      <th>61</th>\n",
       "      <td>mediatek</td>\n",
       "      <td>20240.000000</td>\n",
       "      <td>2</td>\n",
       "    </tr>\n",
       "  </tbody>\n",
       "</table>\n",
       "<p>62 rows × 3 columns</p>\n",
       "</div>"
      ],
      "text/plain": [
       "                          gpu_processor  avg_gpu_price  num_models\n",
       "0            nvidia geforce rtx 3080 ti  301990.000000           1\n",
       "1                   nvidia quadro t2000  272000.000000           1\n",
       "2   nvidia geforce rtx 2080 super max-q  265998.000000           1\n",
       "3            nvidia geforce rtx 3070 ti  247847.142857           7\n",
       "4                    nvidia quadro p520  244801.000000           1\n",
       "..                                  ...            ...         ...\n",
       "57                        amd radeon r5   27090.000000           1\n",
       "58                        intel uhd 605   26990.000000           2\n",
       "59                        intel uhd 600   24363.636364          11\n",
       "60                         intel hd 500   21491.800000           5\n",
       "61                             mediatek   20240.000000           2\n",
       "\n",
       "[62 rows x 3 columns]"
      ]
     },
     "execution_count": 167,
     "metadata": {},
     "output_type": "execute_result"
    }
   ],
   "source": [
    "q = '''SELECT gpu_processor, AVG(Price) AS avg_gpu_price, COUNT(*) AS num_models FROM df_visualize\n",
    "        GROUP BY gpu_processor ORDER BY avg_gpu_price DESC'''\n",
    "gpu_avg_price_df = sqldf(q)\n",
    "gpu_avg_price_df\n"
   ]
  },
  {
   "cell_type": "markdown",
   "id": "ccf53a9c",
   "metadata": {},
   "source": [
    "# Price variation of GPU processors which are availible in the market (July-May 2022)"
   ]
  },
  {
   "cell_type": "code",
   "execution_count": 168,
   "id": "ff259c0b",
   "metadata": {},
   "outputs": [
    {
     "data": {
      "image/png": "[encoded data removed]",
      "text/plain": [
       "<Figure size 1800x720 with 1 Axes>"
      ]
     },
     "metadata": {
      "needs_background": "light"
     },
     "output_type": "display_data"
    }
   ],
   "source": [
    "fig = plt.figure(figsize = (25,10))\n",
    "plt.rcParams['font.size'] = 15\n",
    "plt.xticks(rotation=90)\n",
    "sns.barplot(x = gpu_avg_price_df[\"gpu_processor\"], y = gpu_avg_price_df[\"avg_gpu_price\"])\n",
    "plt.title(\"Avg price of laptops containing the respective GPUs\")\n",
    "plt.show()"
   ]
  },
  {
   "cell_type": "code",
   "execution_count": 169,
   "id": "f6fec0b6",
   "metadata": {},
   "outputs": [
    {
     "data": {
      "image/png": "[encoded data removed]",
      "text/plain": [
       "<Figure size 864x360 with 1 Axes>"
      ]
     },
     "metadata": {
      "needs_background": "light"
     },
     "output_type": "display_data"
    },
    {
     "name": "stdout",
     "output_type": "stream",
     "text": [
      "69849.69512195123 38674.42571657196\n"
     ]
    }
   ],
   "source": [
    "fig = plt.figure(figsize=(12,5))\n",
    "plt.rcParams['font.size'] = 10\n",
    "sns.histplot(df1[\"Price\"])\n",
    "\n",
    "plt.show()\n",
    "print(np.mean(df1[\"Price\"]),np.std(df1[\"Price\"]))"
   ]
  },
  {
   "cell_type": "markdown",
   "id": "b5d98e21",
   "metadata": {},
   "source": [
    "We can clearly see that the price variation is skewed and not normally distributed, i.e higher priced laptops tend to occur less frequently than mean priced laptops"
   ]
  },
  {
   "cell_type": "code",
   "execution_count": 170,
   "id": "76121942",
   "metadata": {},
   "outputs": [
    {
     "data": {
      "image/png": "[encoded data removed]",
      "text/plain": [
       "<Figure size 720x720 with 2 Axes>"
      ]
     },
     "metadata": {
      "needs_background": "light"
     },
     "output_type": "display_data"
    }
   ],
   "source": [
    "plt.figure(figsize = (10,10))\n",
    "sns.heatmap(df1.corr())\n",
    "# corr = df1.corr()\n",
    "plt.show()\n",
    "# We see that not many features are highly correlated."
   ]
  }
 ],
 "metadata": {
  "kernelspec": {
   "display_name": "Python 3 (ipykernel)",
   "language": "python",
   "name": "python3"
  },
  "language_info": {
   "codemirror_mode": {
    "name": "ipython",
    "version": 3
   },
   "file_extension": ".py",
   "mimetype": "text/x-python",
   "name": "python",
   "nbconvert_exporter": "python",
   "pygments_lexer": "ipython3",
   "version": "3.9.12"
  }
 },
 "nbformat": 4,
 "nbformat_minor": 5
}
